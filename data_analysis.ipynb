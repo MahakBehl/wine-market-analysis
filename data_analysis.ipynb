{
 "cells": [
  {
   "cell_type": "markdown",
   "metadata": {},
   "source": [
    "**Wiwino market analysis**"
   ]
  },
  {
   "cell_type": "code",
   "execution_count": 1,
   "metadata": {},
   "outputs": [],
   "source": [
    "import sqlite3\n",
    "import pandas as pd\n",
    "\n",
    "connexion = sqlite3.connect(\"DB/vivino.db\")\n",
    "cursor = connexion.cursor()"
   ]
  },
  {
   "cell_type": "markdown",
   "metadata": {},
   "source": [
    "We want to highlight 10 wines to increase our sales. Which ones should we choose and why?\n",
    "\n",
    "Normalize the average rating to a common scale, usually between 0 and 1 (ratings_average/max rating value) \n",
    "Multiply the normalized average rating by the number of ratings. This gives more weight to products with both high ratings and a large number of ratings.\n",
    "Sort the products based on their weighted score, with higher scores indicating better products."
   ]
  },
  {
   "cell_type": "code",
   "execution_count": 25,
   "metadata": {},
   "outputs": [
    {
     "data": {
      "text/html": [
       "<div>\n",
       "<style scoped>\n",
       "    .dataframe tbody tr th:only-of-type {\n",
       "        vertical-align: middle;\n",
       "    }\n",
       "\n",
       "    .dataframe tbody tr th {\n",
       "        vertical-align: top;\n",
       "    }\n",
       "\n",
       "    .dataframe thead th {\n",
       "        text-align: right;\n",
       "    }\n",
       "</style>\n",
       "<table border=\"1\" class=\"dataframe\">\n",
       "  <thead>\n",
       "    <tr style=\"text-align: right;\">\n",
       "      <th></th>\n",
       "      <th>wine_name</th>\n",
       "      <th>weighted_score</th>\n",
       "      <th>ratings_average</th>\n",
       "      <th>ratings_count</th>\n",
       "    </tr>\n",
       "  </thead>\n",
       "  <tbody>\n",
       "    <tr>\n",
       "      <th>0</th>\n",
       "      <td>Cabernet Sauvignon</td>\n",
       "      <td>145308.5</td>\n",
       "      <td>4.6</td>\n",
       "      <td>157944</td>\n",
       "    </tr>\n",
       "    <tr>\n",
       "      <th>1</th>\n",
       "      <td>Brut Champagne</td>\n",
       "      <td>134666.8</td>\n",
       "      <td>4.6</td>\n",
       "      <td>146377</td>\n",
       "    </tr>\n",
       "    <tr>\n",
       "      <th>2</th>\n",
       "      <td>Tignanello</td>\n",
       "      <td>128261.7</td>\n",
       "      <td>4.5</td>\n",
       "      <td>142513</td>\n",
       "    </tr>\n",
       "    <tr>\n",
       "      <th>3</th>\n",
       "      <td>Sassicaia</td>\n",
       "      <td>99034.3</td>\n",
       "      <td>4.6</td>\n",
       "      <td>107646</td>\n",
       "    </tr>\n",
       "    <tr>\n",
       "      <th>4</th>\n",
       "      <td>60 Sessantanni Old Vines Primitivo di Manduria</td>\n",
       "      <td>84860.1</td>\n",
       "      <td>4.5</td>\n",
       "      <td>94289</td>\n",
       "    </tr>\n",
       "    <tr>\n",
       "      <th>5</th>\n",
       "      <td>Costasera Amarone della Valpolicella Classico</td>\n",
       "      <td>80321.4</td>\n",
       "      <td>4.3</td>\n",
       "      <td>93397</td>\n",
       "    </tr>\n",
       "    <tr>\n",
       "      <th>6</th>\n",
       "      <td>ARTEMIS Cabernet Sauvignon</td>\n",
       "      <td>71588.9</td>\n",
       "      <td>4.4</td>\n",
       "      <td>81351</td>\n",
       "    </tr>\n",
       "    <tr>\n",
       "      <th>7</th>\n",
       "      <td>Opus One</td>\n",
       "      <td>70888.8</td>\n",
       "      <td>4.6</td>\n",
       "      <td>77053</td>\n",
       "    </tr>\n",
       "    <tr>\n",
       "      <th>8</th>\n",
       "      <td>Pauillac (Premier Grand Cru Classé)</td>\n",
       "      <td>67725.8</td>\n",
       "      <td>4.6</td>\n",
       "      <td>73615</td>\n",
       "    </tr>\n",
       "    <tr>\n",
       "      <th>9</th>\n",
       "      <td>Valbuena 5º</td>\n",
       "      <td>66961.3</td>\n",
       "      <td>4.6</td>\n",
       "      <td>72784</td>\n",
       "    </tr>\n",
       "  </tbody>\n",
       "</table>\n",
       "</div>"
      ],
      "text/plain": [
       "                                        wine_name  weighted_score  \\\n",
       "0                              Cabernet Sauvignon        145308.5   \n",
       "1                                  Brut Champagne        134666.8   \n",
       "2                                      Tignanello        128261.7   \n",
       "3                                       Sassicaia         99034.3   \n",
       "4  60 Sessantanni Old Vines Primitivo di Manduria         84860.1   \n",
       "5   Costasera Amarone della Valpolicella Classico         80321.4   \n",
       "6                      ARTEMIS Cabernet Sauvignon         71588.9   \n",
       "7                                        Opus One         70888.8   \n",
       "8             Pauillac (Premier Grand Cru Classé)         67725.8   \n",
       "9                                     Valbuena 5º         66961.3   \n",
       "\n",
       "   ratings_average  ratings_count  \n",
       "0              4.6         157944  \n",
       "1              4.6         146377  \n",
       "2              4.5         142513  \n",
       "3              4.6         107646  \n",
       "4              4.5          94289  \n",
       "5              4.3          93397  \n",
       "6              4.4          81351  \n",
       "7              4.6          77053  \n",
       "8              4.6          73615  \n",
       "9              4.6          72784  "
      ]
     },
     "execution_count": 25,
     "metadata": {},
     "output_type": "execute_result"
    }
   ],
   "source": [
    "top_ten_wines = \"\"\"SELECT \n",
    "                name as wine_name,\n",
    "                ROUND((ratings_average / 5) * ratings_count, 1) AS weighted_score,\n",
    "                ratings_average,\n",
    "                ratings_count\n",
    "            FROM \n",
    "                wines \n",
    "            ORDER BY \n",
    "                weighted_score DESC\n",
    "            LIMIT 10;\n",
    "    \"\"\"\n",
    "top_ten_wines_df = pd.read_sql_query(top_ten_wines,connexion)\n",
    "top_ten_wines_df"
   ]
  },
  {
   "cell_type": "markdown",
   "metadata": {},
   "source": [
    "We have a limited marketing budget for this year. Which country should we prioritise and why?\n",
    "\n",
    "Normalize each data point to a common scale between 0 and 1 to ensure equal weighting. \n",
    "Assign weights to each normalized data point based on its importance\n",
    "Multiply each normalized data point by its respective weight and sum the results to get a priority score for each country\n",
    "Rank countries based on their priority scores, with higher scores indicating higher priority"
   ]
  },
  {
   "cell_type": "code",
   "execution_count": 26,
   "metadata": {},
   "outputs": [
    {
     "data": {
      "text/html": [
       "<div>\n",
       "<style scoped>\n",
       "    .dataframe tbody tr th:only-of-type {\n",
       "        vertical-align: middle;\n",
       "    }\n",
       "\n",
       "    .dataframe tbody tr th {\n",
       "        vertical-align: top;\n",
       "    }\n",
       "\n",
       "    .dataframe thead th {\n",
       "        text-align: right;\n",
       "    }\n",
       "</style>\n",
       "<table border=\"1\" class=\"dataframe\">\n",
       "  <thead>\n",
       "    <tr style=\"text-align: right;\">\n",
       "      <th></th>\n",
       "      <th>country_name</th>\n",
       "      <th>priority_score</th>\n",
       "    </tr>\n",
       "  </thead>\n",
       "  <tbody>\n",
       "    <tr>\n",
       "      <th>0</th>\n",
       "      <td>France</td>\n",
       "      <td>0.6</td>\n",
       "    </tr>\n",
       "    <tr>\n",
       "      <th>1</th>\n",
       "      <td>États-Unis</td>\n",
       "      <td>0.4</td>\n",
       "    </tr>\n",
       "    <tr>\n",
       "      <th>2</th>\n",
       "      <td>Italie</td>\n",
       "      <td>0.0</td>\n",
       "    </tr>\n",
       "    <tr>\n",
       "      <th>3</th>\n",
       "      <td>Espagne</td>\n",
       "      <td>0.0</td>\n",
       "    </tr>\n",
       "    <tr>\n",
       "      <th>4</th>\n",
       "      <td>Portugal</td>\n",
       "      <td>0.0</td>\n",
       "    </tr>\n",
       "    <tr>\n",
       "      <th>5</th>\n",
       "      <td>Australie</td>\n",
       "      <td>0.0</td>\n",
       "    </tr>\n",
       "    <tr>\n",
       "      <th>6</th>\n",
       "      <td>Hongrie</td>\n",
       "      <td>0.0</td>\n",
       "    </tr>\n",
       "    <tr>\n",
       "      <th>7</th>\n",
       "      <td>Afrique du Sud</td>\n",
       "      <td>0.0</td>\n",
       "    </tr>\n",
       "    <tr>\n",
       "      <th>8</th>\n",
       "      <td>Allemagne</td>\n",
       "      <td>0.0</td>\n",
       "    </tr>\n",
       "    <tr>\n",
       "      <th>9</th>\n",
       "      <td>Chili</td>\n",
       "      <td>0.0</td>\n",
       "    </tr>\n",
       "    <tr>\n",
       "      <th>10</th>\n",
       "      <td>Moldavie</td>\n",
       "      <td>0.0</td>\n",
       "    </tr>\n",
       "    <tr>\n",
       "      <th>11</th>\n",
       "      <td>Argentine</td>\n",
       "      <td>0.0</td>\n",
       "    </tr>\n",
       "    <tr>\n",
       "      <th>12</th>\n",
       "      <td>Grèce</td>\n",
       "      <td>0.0</td>\n",
       "    </tr>\n",
       "    <tr>\n",
       "      <th>13</th>\n",
       "      <td>Israël</td>\n",
       "      <td>0.0</td>\n",
       "    </tr>\n",
       "    <tr>\n",
       "      <th>14</th>\n",
       "      <td>Roumanie</td>\n",
       "      <td>0.0</td>\n",
       "    </tr>\n",
       "    <tr>\n",
       "      <th>15</th>\n",
       "      <td>Croatie</td>\n",
       "      <td>0.0</td>\n",
       "    </tr>\n",
       "    <tr>\n",
       "      <th>16</th>\n",
       "      <td>Suisse</td>\n",
       "      <td>0.0</td>\n",
       "    </tr>\n",
       "  </tbody>\n",
       "</table>\n",
       "</div>"
      ],
      "text/plain": [
       "      country_name  priority_score\n",
       "0           France             0.6\n",
       "1       États-Unis             0.4\n",
       "2           Italie             0.0\n",
       "3          Espagne             0.0\n",
       "4         Portugal             0.0\n",
       "5        Australie             0.0\n",
       "6          Hongrie             0.0\n",
       "7   Afrique du Sud             0.0\n",
       "8        Allemagne             0.0\n",
       "9            Chili             0.0\n",
       "10        Moldavie             0.0\n",
       "11       Argentine             0.0\n",
       "12           Grèce             0.0\n",
       "13          Israël             0.0\n",
       "14        Roumanie             0.0\n",
       "15         Croatie             0.0\n",
       "16          Suisse             0.0"
      ]
     },
     "execution_count": 26,
     "metadata": {},
     "output_type": "execute_result"
    }
   ],
   "source": [
    "country_prioritise = \"\"\"WITH max_values AS (\n",
    "                    SELECT \n",
    "                        MAX(users_count) AS max_users,\n",
    "                        MAX(regions_count) AS max_regions,\n",
    "                        MAX(wines_count) AS max_wines,\n",
    "                        MAX(wineries_count) AS max_wineries \n",
    "                    FROM \n",
    "                        countries\n",
    "                )\n",
    "                SELECT \n",
    "                    name as country_name,\n",
    "                    ((regions_count / max_regions) * 0.1) + \n",
    "                    ((users_count / max_users) * 0.4) +\n",
    "                    ((wines_count / max_wines) * 0.3) +\n",
    "                    ((wineries_count / max_wineries) * 0.2) AS priority_score\n",
    "                FROM \n",
    "                    countries, \n",
    "                    max_values \n",
    "                ORDER BY \n",
    "                    priority_score DESC;\"\"\"\n",
    "\n",
    "country_prioritise_df = pd.read_sql_query(country_prioritise,connexion)\n",
    "country_prioritise_df"
   ]
  },
  {
   "cell_type": "markdown",
   "metadata": {},
   "source": [
    "We would like to give awards to the best wineries. Come up with 3 relevant ones. Which wineries should we choose and why?\n",
    "\n",
    "There are only "
   ]
  },
  {
   "cell_type": "markdown",
   "metadata": {},
   "source": [
    "We detected that a big cluster of customers likes a specific combination of tastes. We identified a few keywords that match these tastes: coffee, toast, green apple, cream, and citrus. We would like you to find all the wines that are related to these keywords. Check that at least 10 users confirm those keywords, to ensure the accuracy of the selection. Additionally, identify an appropriate group name for this cluster.\n",
    "\n",
    "Selected 5 tastes from Keywords table and make sure more then 10 users  confirm by checking the count in keyword_wine table\n",
    "Joined keywords, keywords_wine and wines table to get all the list of wine IDs & Names with atleast one taste mentioned above."
   ]
  },
  {
   "cell_type": "code",
   "execution_count": 5,
   "metadata": {},
   "outputs": [
    {
     "data": {
      "text/html": [
       "<div>\n",
       "<style scoped>\n",
       "    .dataframe tbody tr th:only-of-type {\n",
       "        vertical-align: middle;\n",
       "    }\n",
       "\n",
       "    .dataframe tbody tr th {\n",
       "        vertical-align: top;\n",
       "    }\n",
       "\n",
       "    .dataframe thead th {\n",
       "        text-align: right;\n",
       "    }\n",
       "</style>\n",
       "<table border=\"1\" class=\"dataframe\">\n",
       "  <thead>\n",
       "    <tr style=\"text-align: right;\">\n",
       "      <th></th>\n",
       "      <th>wine_id</th>\n",
       "      <th>wine_name</th>\n",
       "      <th>tastes_count</th>\n",
       "      <th>number_of_users_confirm_keywords</th>\n",
       "      <th>list_of_tastes</th>\n",
       "    </tr>\n",
       "  </thead>\n",
       "  <tbody>\n",
       "    <tr>\n",
       "      <th>0</th>\n",
       "      <td>18931</td>\n",
       "      <td>La Grande Année Brut Champagne</td>\n",
       "      <td>5</td>\n",
       "      <td>525</td>\n",
       "      <td>toast,coffee,cream,green apple,citrus</td>\n",
       "    </tr>\n",
       "    <tr>\n",
       "      <th>1</th>\n",
       "      <td>74304</td>\n",
       "      <td>Cristal Brut Champagne (Millésimé)</td>\n",
       "      <td>5</td>\n",
       "      <td>464</td>\n",
       "      <td>toast,coffee,green apple,citrus,cream</td>\n",
       "    </tr>\n",
       "    <tr>\n",
       "      <th>2</th>\n",
       "      <td>79162</td>\n",
       "      <td>Belle Epoque Brut Champagne</td>\n",
       "      <td>5</td>\n",
       "      <td>224</td>\n",
       "      <td>green apple,toast,coffee,citrus,cream</td>\n",
       "    </tr>\n",
       "    <tr>\n",
       "      <th>3</th>\n",
       "      <td>79631</td>\n",
       "      <td>Vintage</td>\n",
       "      <td>5</td>\n",
       "      <td>356</td>\n",
       "      <td>toast,coffee,cream,green apple,citrus</td>\n",
       "    </tr>\n",
       "    <tr>\n",
       "      <th>4</th>\n",
       "      <td>79836</td>\n",
       "      <td>La Grande Dame Brut Champagne</td>\n",
       "      <td>5</td>\n",
       "      <td>244</td>\n",
       "      <td>toast,coffee,green apple,cream,citrus</td>\n",
       "    </tr>\n",
       "    <tr>\n",
       "      <th>...</th>\n",
       "      <td>...</td>\n",
       "      <td>...</td>\n",
       "      <td>...</td>\n",
       "      <td>...</td>\n",
       "      <td>...</td>\n",
       "    </tr>\n",
       "    <tr>\n",
       "      <th>424</th>\n",
       "      <td>6255066</td>\n",
       "      <td>VV 26 Blanc de Blancs Vieilles Vignes Grand Cr...</td>\n",
       "      <td>1</td>\n",
       "      <td>11</td>\n",
       "      <td>toast</td>\n",
       "    </tr>\n",
       "    <tr>\n",
       "      <th>425</th>\n",
       "      <td>6343385</td>\n",
       "      <td>80 Vecchie Vigne Primitivo di Manduria Old Vines</td>\n",
       "      <td>1</td>\n",
       "      <td>12</td>\n",
       "      <td>coffee</td>\n",
       "    </tr>\n",
       "    <tr>\n",
       "      <th>426</th>\n",
       "      <td>6492988</td>\n",
       "      <td>Rioja Blanco Reserva</td>\n",
       "      <td>1</td>\n",
       "      <td>14</td>\n",
       "      <td>cream</td>\n",
       "    </tr>\n",
       "    <tr>\n",
       "      <th>427</th>\n",
       "      <td>6741558</td>\n",
       "      <td>Vigne Vecchie Gold Series Leggenda Primitivo d...</td>\n",
       "      <td>1</td>\n",
       "      <td>17</td>\n",
       "      <td>coffee</td>\n",
       "    </tr>\n",
       "    <tr>\n",
       "      <th>428</th>\n",
       "      <td>6887039</td>\n",
       "      <td>Hyde Vineyard Chardonnay</td>\n",
       "      <td>1</td>\n",
       "      <td>17</td>\n",
       "      <td>citrus</td>\n",
       "    </tr>\n",
       "  </tbody>\n",
       "</table>\n",
       "<p>429 rows × 5 columns</p>\n",
       "</div>"
      ],
      "text/plain": [
       "     wine_id                                          wine_name  tastes_count  \\\n",
       "0      18931                     La Grande Année Brut Champagne             5   \n",
       "1      74304                 Cristal Brut Champagne (Millésimé)             5   \n",
       "2      79162                        Belle Epoque Brut Champagne             5   \n",
       "3      79631                                            Vintage             5   \n",
       "4      79836                      La Grande Dame Brut Champagne             5   \n",
       "..       ...                                                ...           ...   \n",
       "424  6255066  VV 26 Blanc de Blancs Vieilles Vignes Grand Cr...             1   \n",
       "425  6343385   80 Vecchie Vigne Primitivo di Manduria Old Vines             1   \n",
       "426  6492988                               Rioja Blanco Reserva             1   \n",
       "427  6741558  Vigne Vecchie Gold Series Leggenda Primitivo d...             1   \n",
       "428  6887039                           Hyde Vineyard Chardonnay             1   \n",
       "\n",
       "     number_of_users_confirm_keywords                         list_of_tastes  \n",
       "0                                 525  toast,coffee,cream,green apple,citrus  \n",
       "1                                 464  toast,coffee,green apple,citrus,cream  \n",
       "2                                 224  green apple,toast,coffee,citrus,cream  \n",
       "3                                 356  toast,coffee,cream,green apple,citrus  \n",
       "4                                 244  toast,coffee,green apple,cream,citrus  \n",
       "..                                ...                                    ...  \n",
       "424                                11                                  toast  \n",
       "425                                12                                 coffee  \n",
       "426                                14                                  cream  \n",
       "427                                17                                 coffee  \n",
       "428                                17                                 citrus  \n",
       "\n",
       "[429 rows x 5 columns]"
      ]
     },
     "execution_count": 5,
     "metadata": {},
     "output_type": "execute_result"
    }
   ],
   "source": [
    "cluster_of_customers = \"\"\"SELECT\n",
    "                    wines.id AS wine_id,\n",
    "                    wines.name AS wine_name,\n",
    "                    COUNT(DISTINCT(keywords.name)) AS tastes_count,\n",
    "                    keywords_wine.count AS number_of_users_confirm_keywords,\n",
    "                    GROUP_CONCAT (DISTINCT(keywords.name)) AS list_of_tastes\n",
    "                FROM\n",
    "                    keywords\n",
    "                JOIN\n",
    "                    keywords_wine ON keywords.id = keywords_wine.keyword_id\n",
    "                JOIN\n",
    "                    wines ON keywords_wine.wine_id = wines.id\n",
    "                WHERE\n",
    "                    LOWER(keywords.name) IN ('coffee', 'toast', 'green apple', 'cream', 'citrus')\n",
    "                    AND keywords_wine.count > 10\n",
    "                GROUP BY\n",
    "                    wines.id,\n",
    "                    wines.name\n",
    "                ORDER BY\n",
    "                    tastes_count DESC;\"\"\"\n",
    "\n",
    "cluster_of_customers_df = pd.read_sql_query(cluster_of_customers,connexion)\n",
    "cluster_of_customers_df"
   ]
  },
  {
   "cell_type": "markdown",
   "metadata": {},
   "source": [
    "Joined keywords, keywords_wine and wines table to get all the list of wine IDs & Names with all taste mentioned above."
   ]
  },
  {
   "cell_type": "code",
   "execution_count": 6,
   "metadata": {},
   "outputs": [
    {
     "data": {
      "text/html": [
       "<div>\n",
       "<style scoped>\n",
       "    .dataframe tbody tr th:only-of-type {\n",
       "        vertical-align: middle;\n",
       "    }\n",
       "\n",
       "    .dataframe tbody tr th {\n",
       "        vertical-align: top;\n",
       "    }\n",
       "\n",
       "    .dataframe thead th {\n",
       "        text-align: right;\n",
       "    }\n",
       "</style>\n",
       "<table border=\"1\" class=\"dataframe\">\n",
       "  <thead>\n",
       "    <tr style=\"text-align: right;\">\n",
       "      <th></th>\n",
       "      <th>wine_id</th>\n",
       "      <th>wine_name</th>\n",
       "      <th>tastes_count</th>\n",
       "      <th>number_of_users_confirm_keywords</th>\n",
       "      <th>list_of_tastes</th>\n",
       "    </tr>\n",
       "  </thead>\n",
       "  <tbody>\n",
       "    <tr>\n",
       "      <th>0</th>\n",
       "      <td>18931</td>\n",
       "      <td>La Grande Année Brut Champagne</td>\n",
       "      <td>5</td>\n",
       "      <td>525</td>\n",
       "      <td>toast,coffee,cream,green apple,citrus</td>\n",
       "    </tr>\n",
       "    <tr>\n",
       "      <th>1</th>\n",
       "      <td>74304</td>\n",
       "      <td>Cristal Brut Champagne (Millésimé)</td>\n",
       "      <td>5</td>\n",
       "      <td>464</td>\n",
       "      <td>toast,coffee,green apple,citrus,cream</td>\n",
       "    </tr>\n",
       "    <tr>\n",
       "      <th>2</th>\n",
       "      <td>79162</td>\n",
       "      <td>Belle Epoque Brut Champagne</td>\n",
       "      <td>5</td>\n",
       "      <td>224</td>\n",
       "      <td>green apple,toast,coffee,citrus,cream</td>\n",
       "    </tr>\n",
       "    <tr>\n",
       "      <th>3</th>\n",
       "      <td>79631</td>\n",
       "      <td>Vintage</td>\n",
       "      <td>5</td>\n",
       "      <td>356</td>\n",
       "      <td>toast,coffee,cream,green apple,citrus</td>\n",
       "    </tr>\n",
       "    <tr>\n",
       "      <th>4</th>\n",
       "      <td>79836</td>\n",
       "      <td>La Grande Dame Brut Champagne</td>\n",
       "      <td>5</td>\n",
       "      <td>244</td>\n",
       "      <td>toast,coffee,green apple,cream,citrus</td>\n",
       "    </tr>\n",
       "    <tr>\n",
       "      <th>5</th>\n",
       "      <td>86684</td>\n",
       "      <td>Brut Champagne</td>\n",
       "      <td>5</td>\n",
       "      <td>2165</td>\n",
       "      <td>toast,coffee,cream,green apple,citrus</td>\n",
       "    </tr>\n",
       "    <tr>\n",
       "      <th>6</th>\n",
       "      <td>1105696</td>\n",
       "      <td>Trebbiano d'Abruzzo</td>\n",
       "      <td>5</td>\n",
       "      <td>21</td>\n",
       "      <td>coffee,green apple,citrus,toast,cream</td>\n",
       "    </tr>\n",
       "    <tr>\n",
       "      <th>7</th>\n",
       "      <td>1127349</td>\n",
       "      <td>Le Mesnil Blanc de Blancs (Cuvée S) Brut Champ...</td>\n",
       "      <td>5</td>\n",
       "      <td>240</td>\n",
       "      <td>citrus,toast,coffee,cream,green apple</td>\n",
       "    </tr>\n",
       "    <tr>\n",
       "      <th>8</th>\n",
       "      <td>1136950</td>\n",
       "      <td>Comtes de Champagne Blanc de Blancs</td>\n",
       "      <td>5</td>\n",
       "      <td>587</td>\n",
       "      <td>toast,coffee,cream,citrus,green apple</td>\n",
       "    </tr>\n",
       "    <tr>\n",
       "      <th>9</th>\n",
       "      <td>1153863</td>\n",
       "      <td>Sauternes</td>\n",
       "      <td>5</td>\n",
       "      <td>13</td>\n",
       "      <td>green apple,coffee,toast,citrus,cream</td>\n",
       "    </tr>\n",
       "    <tr>\n",
       "      <th>10</th>\n",
       "      <td>1164702</td>\n",
       "      <td>R.D Extra Brut Champagne (Récemment Dégorgé)</td>\n",
       "      <td>5</td>\n",
       "      <td>163</td>\n",
       "      <td>toast,coffee,cream,green apple,citrus</td>\n",
       "    </tr>\n",
       "    <tr>\n",
       "      <th>11</th>\n",
       "      <td>1192720</td>\n",
       "      <td>Dom Ruinart Blanc de Blancs Brut Champagne</td>\n",
       "      <td>5</td>\n",
       "      <td>226</td>\n",
       "      <td>toast,coffee,cream,green apple,citrus</td>\n",
       "    </tr>\n",
       "    <tr>\n",
       "      <th>12</th>\n",
       "      <td>1441099</td>\n",
       "      <td>Blanc des Millénaires</td>\n",
       "      <td>5</td>\n",
       "      <td>160</td>\n",
       "      <td>toast,coffee,cream,citrus,green apple</td>\n",
       "    </tr>\n",
       "    <tr>\n",
       "      <th>13</th>\n",
       "      <td>1692390</td>\n",
       "      <td>Sir Winston Churchill Brut Champagne</td>\n",
       "      <td>5</td>\n",
       "      <td>282</td>\n",
       "      <td>toast,coffee,cream,green apple,citrus</td>\n",
       "    </tr>\n",
       "    <tr>\n",
       "      <th>14</th>\n",
       "      <td>3102815</td>\n",
       "      <td>P2 Plénitude Brut Champagne</td>\n",
       "      <td>5</td>\n",
       "      <td>161</td>\n",
       "      <td>toast,coffee,cream,green apple,citrus</td>\n",
       "    </tr>\n",
       "    <tr>\n",
       "      <th>15</th>\n",
       "      <td>3630450</td>\n",
       "      <td>Cuvée des Enchanteleurs Brut Champagne</td>\n",
       "      <td>5</td>\n",
       "      <td>31</td>\n",
       "      <td>toast,coffee,cream,green apple,citrus</td>\n",
       "    </tr>\n",
       "    <tr>\n",
       "      <th>16</th>\n",
       "      <td>7122486</td>\n",
       "      <td>Grande Cuvée</td>\n",
       "      <td>5</td>\n",
       "      <td>713</td>\n",
       "      <td>toast,coffee,cream,citrus,green apple</td>\n",
       "    </tr>\n",
       "  </tbody>\n",
       "</table>\n",
       "</div>"
      ],
      "text/plain": [
       "    wine_id                                          wine_name  tastes_count  \\\n",
       "0     18931                     La Grande Année Brut Champagne             5   \n",
       "1     74304                 Cristal Brut Champagne (Millésimé)             5   \n",
       "2     79162                        Belle Epoque Brut Champagne             5   \n",
       "3     79631                                            Vintage             5   \n",
       "4     79836                      La Grande Dame Brut Champagne             5   \n",
       "5     86684                                     Brut Champagne             5   \n",
       "6   1105696                                Trebbiano d'Abruzzo             5   \n",
       "7   1127349  Le Mesnil Blanc de Blancs (Cuvée S) Brut Champ...             5   \n",
       "8   1136950                Comtes de Champagne Blanc de Blancs             5   \n",
       "9   1153863                                          Sauternes             5   \n",
       "10  1164702       R.D Extra Brut Champagne (Récemment Dégorgé)             5   \n",
       "11  1192720         Dom Ruinart Blanc de Blancs Brut Champagne             5   \n",
       "12  1441099                              Blanc des Millénaires             5   \n",
       "13  1692390               Sir Winston Churchill Brut Champagne             5   \n",
       "14  3102815                        P2 Plénitude Brut Champagne             5   \n",
       "15  3630450             Cuvée des Enchanteleurs Brut Champagne             5   \n",
       "16  7122486                                       Grande Cuvée             5   \n",
       "\n",
       "    number_of_users_confirm_keywords                         list_of_tastes  \n",
       "0                                525  toast,coffee,cream,green apple,citrus  \n",
       "1                                464  toast,coffee,green apple,citrus,cream  \n",
       "2                                224  green apple,toast,coffee,citrus,cream  \n",
       "3                                356  toast,coffee,cream,green apple,citrus  \n",
       "4                                244  toast,coffee,green apple,cream,citrus  \n",
       "5                               2165  toast,coffee,cream,green apple,citrus  \n",
       "6                                 21  coffee,green apple,citrus,toast,cream  \n",
       "7                                240  citrus,toast,coffee,cream,green apple  \n",
       "8                                587  toast,coffee,cream,citrus,green apple  \n",
       "9                                 13  green apple,coffee,toast,citrus,cream  \n",
       "10                               163  toast,coffee,cream,green apple,citrus  \n",
       "11                               226  toast,coffee,cream,green apple,citrus  \n",
       "12                               160  toast,coffee,cream,citrus,green apple  \n",
       "13                               282  toast,coffee,cream,green apple,citrus  \n",
       "14                               161  toast,coffee,cream,green apple,citrus  \n",
       "15                                31  toast,coffee,cream,green apple,citrus  \n",
       "16                               713  toast,coffee,cream,citrus,green apple  "
      ]
     },
     "execution_count": 6,
     "metadata": {},
     "output_type": "execute_result"
    }
   ],
   "source": [
    "list_of_tastes_wines = \"\"\"SELECT\n",
    "                    wines.id AS wine_id,\n",
    "                    wines.name AS wine_name,\n",
    "                    COUNT(DISTINCT(keywords.name)) AS tastes_count,\n",
    "                    keywords_wine.count AS number_of_users_confirm_keywords,\n",
    "                    GROUP_CONCAT (DISTINCT(keywords.name)) AS list_of_tastes\n",
    "                FROM\n",
    "                    keywords\n",
    "                JOIN\n",
    "                    keywords_wine ON keywords.id = keywords_wine.keyword_id\n",
    "                JOIN\n",
    "                    wines ON keywords_wine.wine_id = wines.id\n",
    "                WHERE\n",
    "                    LOWER(keywords.name) IN ('coffee', 'toast', 'green apple', 'cream', 'citrus')\n",
    "                    AND keywords_wine.count > 10\n",
    "                GROUP BY\n",
    "                    wines.id,\n",
    "                    wines.name\n",
    "\t\t\t\tHAVING \n",
    "\t\t\t\t\ttastes_count = 5;\"\"\"\n",
    "\n",
    "list_of_tastes_wines_df = pd.read_sql_query(list_of_tastes_wines,connexion)\n",
    "list_of_tastes_wines_df"
   ]
  },
  {
   "cell_type": "markdown",
   "metadata": {},
   "source": [
    "Find the top 3 most common grapes all over the world"
   ]
  },
  {
   "cell_type": "code",
   "execution_count": 7,
   "metadata": {},
   "outputs": [
    {
     "data": {
      "text/html": [
       "<div>\n",
       "<style scoped>\n",
       "    .dataframe tbody tr th:only-of-type {\n",
       "        vertical-align: middle;\n",
       "    }\n",
       "\n",
       "    .dataframe tbody tr th {\n",
       "        vertical-align: top;\n",
       "    }\n",
       "\n",
       "    .dataframe thead th {\n",
       "        text-align: right;\n",
       "    }\n",
       "</style>\n",
       "<table border=\"1\" class=\"dataframe\">\n",
       "  <thead>\n",
       "    <tr style=\"text-align: right;\">\n",
       "      <th></th>\n",
       "      <th>number_of_countries_using_grape</th>\n",
       "      <th>country_codes</th>\n",
       "      <th>grape_id</th>\n",
       "      <th>grape_name</th>\n",
       "    </tr>\n",
       "  </thead>\n",
       "  <tbody>\n",
       "    <tr>\n",
       "      <th>0</th>\n",
       "      <td>12</td>\n",
       "      <td>us,es,au,hu,za,cl,md,ar,gr,il,ro,hr</td>\n",
       "      <td>2</td>\n",
       "      <td>Cabernet Sauvignon</td>\n",
       "    </tr>\n",
       "    <tr>\n",
       "      <th>1</th>\n",
       "      <td>11</td>\n",
       "      <td>it,fr,hu,za,cl,md,gr,il,ro,hr,ch</td>\n",
       "      <td>10</td>\n",
       "      <td>Merlot</td>\n",
       "    </tr>\n",
       "    <tr>\n",
       "      <th>2</th>\n",
       "      <td>6</td>\n",
       "      <td>it,fr,us,au,md,ar</td>\n",
       "      <td>5</td>\n",
       "      <td>Chardonnay</td>\n",
       "    </tr>\n",
       "  </tbody>\n",
       "</table>\n",
       "</div>"
      ],
      "text/plain": [
       "   number_of_countries_using_grape                        country_codes  \\\n",
       "0                               12  us,es,au,hu,za,cl,md,ar,gr,il,ro,hr   \n",
       "1                               11     it,fr,hu,za,cl,md,gr,il,ro,hr,ch   \n",
       "2                                6                    it,fr,us,au,md,ar   \n",
       "\n",
       "   grape_id          grape_name  \n",
       "0         2  Cabernet Sauvignon  \n",
       "1        10              Merlot  \n",
       "2         5          Chardonnay  "
      ]
     },
     "execution_count": 7,
     "metadata": {},
     "output_type": "execute_result"
    }
   ],
   "source": [
    "most_common_grapes = \"\"\"SELECT\n",
    "                    COUNT(country_code) AS number_of_countries_using_grape,\n",
    "                    GROUP_CONCAT(country_code) AS country_codes,\n",
    "                    grape_id,\n",
    "                    name AS grape_name\n",
    "                FROM\n",
    "                    most_used_grapes_per_country\n",
    "                JOIN\n",
    "                    grapes ON most_used_grapes_per_country.grape_id = grapes.id\n",
    "                GROUP BY\n",
    "                    grape_id\n",
    "                ORDER BY\n",
    "                    number_of_countries_using_grape DESC\n",
    "                LIMIT 3;\"\"\"\n",
    "most_common_grapes_df = pd.read_sql_query(most_common_grapes,connexion)\n",
    "most_common_grapes_df"
   ]
  },
  {
   "cell_type": "markdown",
   "metadata": {},
   "source": [
    "Find the 5 top rated wine from wines table where grape name is Cabernet Sauvignon which one of the top 3 used grape across world"
   ]
  },
  {
   "cell_type": "code",
   "execution_count": 10,
   "metadata": {},
   "outputs": [
    {
     "data": {
      "text/html": [
       "<div>\n",
       "<style scoped>\n",
       "    .dataframe tbody tr th:only-of-type {\n",
       "        vertical-align: middle;\n",
       "    }\n",
       "\n",
       "    .dataframe tbody tr th {\n",
       "        vertical-align: top;\n",
       "    }\n",
       "\n",
       "    .dataframe thead th {\n",
       "        text-align: right;\n",
       "    }\n",
       "</style>\n",
       "<table border=\"1\" class=\"dataframe\">\n",
       "  <thead>\n",
       "    <tr style=\"text-align: right;\">\n",
       "      <th></th>\n",
       "      <th>name</th>\n",
       "      <th>weighted_score</th>\n",
       "      <th>ratings_average</th>\n",
       "      <th>ratings_count</th>\n",
       "    </tr>\n",
       "  </thead>\n",
       "  <tbody>\n",
       "    <tr>\n",
       "      <th>0</th>\n",
       "      <td>Cabernet Sauvignon</td>\n",
       "      <td>145308.5</td>\n",
       "      <td>4.6</td>\n",
       "      <td>157944</td>\n",
       "    </tr>\n",
       "    <tr>\n",
       "      <th>1</th>\n",
       "      <td>ARTEMIS Cabernet Sauvignon</td>\n",
       "      <td>71588.9</td>\n",
       "      <td>4.4</td>\n",
       "      <td>81351</td>\n",
       "    </tr>\n",
       "    <tr>\n",
       "      <th>2</th>\n",
       "      <td>Alexander Valley Cabernet Sauvignon</td>\n",
       "      <td>40538.1</td>\n",
       "      <td>4.4</td>\n",
       "      <td>46066</td>\n",
       "    </tr>\n",
       "    <tr>\n",
       "      <th>3</th>\n",
       "      <td>Special Selection Cabernet Sauvignon</td>\n",
       "      <td>38761.8</td>\n",
       "      <td>4.7</td>\n",
       "      <td>41236</td>\n",
       "    </tr>\n",
       "    <tr>\n",
       "      <th>4</th>\n",
       "      <td>Cabernet Sauvignon</td>\n",
       "      <td>25118.7</td>\n",
       "      <td>4.4</td>\n",
       "      <td>28544</td>\n",
       "    </tr>\n",
       "  </tbody>\n",
       "</table>\n",
       "</div>"
      ],
      "text/plain": [
       "                                   name  weighted_score  ratings_average  \\\n",
       "0                    Cabernet Sauvignon        145308.5              4.6   \n",
       "1            ARTEMIS Cabernet Sauvignon         71588.9              4.4   \n",
       "2   Alexander Valley Cabernet Sauvignon         40538.1              4.4   \n",
       "3  Special Selection Cabernet Sauvignon         38761.8              4.7   \n",
       "4                    Cabernet Sauvignon         25118.7              4.4   \n",
       "\n",
       "   ratings_count  \n",
       "0         157944  \n",
       "1          81351  \n",
       "2          46066  \n",
       "3          41236  \n",
       "4          28544  "
      ]
     },
     "execution_count": 10,
     "metadata": {},
     "output_type": "execute_result"
    }
   ],
   "source": [
    "top_wines_with_best_grape = \"\"\"SELECT\n",
    "                    wines.name,\n",
    "                    ROUND((ratings_average / 5) * ratings_count, 1) AS weighted_score,\n",
    "                    ratings_average,\n",
    "                    ratings_count\n",
    "                FROM\n",
    "                    wines \n",
    "                where \n",
    "                    name like '%Cabernet Sauvignon%'\n",
    "                ORDER BY \n",
    "                    weighted_score DESC\n",
    "                LIMIT 5;\"\"\"\n",
    "\n",
    "top_wines_with_best_grape_df = pd.read_sql_query(top_wines_with_best_grape,connexion)\n",
    "top_wines_with_best_grape_df"
   ]
  },
  {
   "cell_type": "markdown",
   "metadata": {},
   "source": [
    "Find the 5 top rated wine from wines table where grape name is Merlot which one of the top 3 used grape across world"
   ]
  },
  {
   "cell_type": "code",
   "execution_count": 11,
   "metadata": {},
   "outputs": [
    {
     "data": {
      "text/html": [
       "<div>\n",
       "<style scoped>\n",
       "    .dataframe tbody tr th:only-of-type {\n",
       "        vertical-align: middle;\n",
       "    }\n",
       "\n",
       "    .dataframe tbody tr th {\n",
       "        vertical-align: top;\n",
       "    }\n",
       "\n",
       "    .dataframe thead th {\n",
       "        text-align: right;\n",
       "    }\n",
       "</style>\n",
       "<table border=\"1\" class=\"dataframe\">\n",
       "  <thead>\n",
       "    <tr style=\"text-align: right;\">\n",
       "      <th></th>\n",
       "      <th>name</th>\n",
       "      <th>weighted_score</th>\n",
       "      <th>ratings_average</th>\n",
       "      <th>ratings_count</th>\n",
       "      <th>grape_name</th>\n",
       "      <th>row_num</th>\n",
       "    </tr>\n",
       "  </thead>\n",
       "  <tbody>\n",
       "    <tr>\n",
       "      <th>0</th>\n",
       "      <td>Cabernet Sauvignon</td>\n",
       "      <td>145308.5</td>\n",
       "      <td>4.6</td>\n",
       "      <td>157944</td>\n",
       "      <td>Cabernet Sauvignon</td>\n",
       "      <td>5</td>\n",
       "    </tr>\n",
       "    <tr>\n",
       "      <th>1</th>\n",
       "      <td>Cabernet Sauvignon</td>\n",
       "      <td>25118.7</td>\n",
       "      <td>4.4</td>\n",
       "      <td>28544</td>\n",
       "      <td>Cabernet Sauvignon</td>\n",
       "      <td>3</td>\n",
       "    </tr>\n",
       "    <tr>\n",
       "      <th>2</th>\n",
       "      <td>Chardonnay</td>\n",
       "      <td>16076.8</td>\n",
       "      <td>4.3</td>\n",
       "      <td>18694</td>\n",
       "      <td>Chardonnay</td>\n",
       "      <td>1</td>\n",
       "    </tr>\n",
       "    <tr>\n",
       "      <th>3</th>\n",
       "      <td>Cabernet Sauvignon (Signature)</td>\n",
       "      <td>12631.6</td>\n",
       "      <td>4.6</td>\n",
       "      <td>13730</td>\n",
       "      <td>Cabernet Sauvignon</td>\n",
       "      <td>1</td>\n",
       "    </tr>\n",
       "    <tr>\n",
       "      <th>4</th>\n",
       "      <td>Chateau Buena Vista Cabernet Sauvignon Napa Va...</td>\n",
       "      <td>11536.9</td>\n",
       "      <td>4.3</td>\n",
       "      <td>13415</td>\n",
       "      <td>Cabernet Sauvignon</td>\n",
       "      <td>2</td>\n",
       "    </tr>\n",
       "    <tr>\n",
       "      <th>5</th>\n",
       "      <td>Cabernet Sauvignon</td>\n",
       "      <td>2119.0</td>\n",
       "      <td>4.4</td>\n",
       "      <td>2408</td>\n",
       "      <td>Cabernet Sauvignon</td>\n",
       "      <td>4</td>\n",
       "    </tr>\n",
       "    <tr>\n",
       "      <th>6</th>\n",
       "      <td>Merlot (Signature)</td>\n",
       "      <td>1988.3</td>\n",
       "      <td>4.3</td>\n",
       "      <td>2312</td>\n",
       "      <td>Merlot</td>\n",
       "      <td>1</td>\n",
       "    </tr>\n",
       "    <tr>\n",
       "      <th>7</th>\n",
       "      <td>Merlot</td>\n",
       "      <td>1691.4</td>\n",
       "      <td>4.4</td>\n",
       "      <td>1922</td>\n",
       "      <td>Merlot</td>\n",
       "      <td>3</td>\n",
       "    </tr>\n",
       "    <tr>\n",
       "      <th>8</th>\n",
       "      <td>One Sixteen Chardonnay</td>\n",
       "      <td>1542.6</td>\n",
       "      <td>4.4</td>\n",
       "      <td>1753</td>\n",
       "      <td>Chardonnay</td>\n",
       "      <td>5</td>\n",
       "    </tr>\n",
       "    <tr>\n",
       "      <th>9</th>\n",
       "      <td>Calle Merlot Rosso Veronese</td>\n",
       "      <td>926.6</td>\n",
       "      <td>4.4</td>\n",
       "      <td>1053</td>\n",
       "      <td>Merlot</td>\n",
       "      <td>2</td>\n",
       "    </tr>\n",
       "    <tr>\n",
       "      <th>10</th>\n",
       "      <td>Chardonnay</td>\n",
       "      <td>907.3</td>\n",
       "      <td>4.4</td>\n",
       "      <td>1031</td>\n",
       "      <td>Chardonnay</td>\n",
       "      <td>3</td>\n",
       "    </tr>\n",
       "    <tr>\n",
       "      <th>11</th>\n",
       "      <td>Chloe Chardonnay</td>\n",
       "      <td>412.2</td>\n",
       "      <td>4.5</td>\n",
       "      <td>458</td>\n",
       "      <td>Chardonnay</td>\n",
       "      <td>2</td>\n",
       "    </tr>\n",
       "    <tr>\n",
       "      <th>12</th>\n",
       "      <td>Chardonnay</td>\n",
       "      <td>176.9</td>\n",
       "      <td>4.4</td>\n",
       "      <td>201</td>\n",
       "      <td>Chardonnay</td>\n",
       "      <td>4</td>\n",
       "    </tr>\n",
       "    <tr>\n",
       "      <th>13</th>\n",
       "      <td>110 e Lode Merlot</td>\n",
       "      <td>153.1</td>\n",
       "      <td>4.4</td>\n",
       "      <td>174</td>\n",
       "      <td>Merlot</td>\n",
       "      <td>4</td>\n",
       "    </tr>\n",
       "  </tbody>\n",
       "</table>\n",
       "</div>"
      ],
      "text/plain": [
       "                                                 name  weighted_score  \\\n",
       "0                                  Cabernet Sauvignon        145308.5   \n",
       "1                                  Cabernet Sauvignon         25118.7   \n",
       "2                                          Chardonnay         16076.8   \n",
       "3                      Cabernet Sauvignon (Signature)         12631.6   \n",
       "4   Chateau Buena Vista Cabernet Sauvignon Napa Va...         11536.9   \n",
       "5                                  Cabernet Sauvignon          2119.0   \n",
       "6                                  Merlot (Signature)          1988.3   \n",
       "7                                              Merlot          1691.4   \n",
       "8                              One Sixteen Chardonnay          1542.6   \n",
       "9                         Calle Merlot Rosso Veronese           926.6   \n",
       "10                                         Chardonnay           907.3   \n",
       "11                                   Chloe Chardonnay           412.2   \n",
       "12                                         Chardonnay           176.9   \n",
       "13                                  110 e Lode Merlot           153.1   \n",
       "\n",
       "    ratings_average  ratings_count          grape_name  row_num  \n",
       "0               4.6         157944  Cabernet Sauvignon        5  \n",
       "1               4.4          28544  Cabernet Sauvignon        3  \n",
       "2               4.3          18694          Chardonnay        1  \n",
       "3               4.6          13730  Cabernet Sauvignon        1  \n",
       "4               4.3          13415  Cabernet Sauvignon        2  \n",
       "5               4.4           2408  Cabernet Sauvignon        4  \n",
       "6               4.3           2312              Merlot        1  \n",
       "7               4.4           1922              Merlot        3  \n",
       "8               4.4           1753          Chardonnay        5  \n",
       "9               4.4           1053              Merlot        2  \n",
       "10              4.4           1031          Chardonnay        3  \n",
       "11              4.5            458          Chardonnay        2  \n",
       "12              4.4            201          Chardonnay        4  \n",
       "13              4.4            174              Merlot        4  "
      ]
     },
     "execution_count": 11,
     "metadata": {},
     "output_type": "execute_result"
    }
   ],
   "source": [
    "top_wines_with_top_grapes =\"\"\"WITH grapes_list AS (\n",
    "                        SELECT\n",
    "                            COUNT(country_code) AS number_of_countries_using_grape,\n",
    "                            GROUP_CONCAT(country_code) AS country_codes,\n",
    "                            grape_id,\n",
    "                            grapes.name AS grape_name\n",
    "                        FROM\n",
    "                            most_used_grapes_per_country\n",
    "                        JOIN\n",
    "                            grapes ON most_used_grapes_per_country.grape_id = grapes.id\n",
    "                        GROUP BY\n",
    "                            grape_id\n",
    "                        ORDER BY\n",
    "                            number_of_countries_using_grape DESC\n",
    "                        LIMIT 3\n",
    "                    )\n",
    "                    SELECT *\n",
    "                    FROM (SELECT\n",
    "                        wines.name as wine_name,\n",
    "                        ROUND((ratings_average / 5) * ratings_count, 1) AS weighted_score,\n",
    "                        ratings_average,\n",
    "                        ratings_count,\n",
    "                        grapes_list.grape_name,\n",
    "                        ROW_NUMBER() OVER (PARTITION BY CASE \n",
    "                                                                WHEN name LIKE  '%' || grapes_list.grape_name || '%' THEN grapes_list.grape_name\n",
    "                                                            END \n",
    "                                                ORDER BY (SELECT NULL)) AS row_num\n",
    "                    FROM\n",
    "                        wines , grapes_list\n",
    "                    where \n",
    "                        name like '%' || grapes_list.grape_name || '%'  \n",
    "                    ORDER BY \n",
    "                        weighted_score DESC\n",
    "                    ) AS subquery\n",
    "                    WHERE row_num <= 5;\"\"\"\n",
    "\n",
    "top_wines_with_top_grapes_df = pd.read_sql_query(top_wines_with_top_grapes,connexion)\n",
    "top_wines_with_top_grapes_df"
   ]
  },
  {
   "cell_type": "markdown",
   "metadata": {},
   "source": [
    "A country leaderboard. A visual that shows the average wine rating for each country"
   ]
  },
  {
   "cell_type": "code",
   "execution_count": 12,
   "metadata": {},
   "outputs": [
    {
     "data": {
      "text/html": [
       "<div>\n",
       "<style scoped>\n",
       "    .dataframe tbody tr th:only-of-type {\n",
       "        vertical-align: middle;\n",
       "    }\n",
       "\n",
       "    .dataframe tbody tr th {\n",
       "        vertical-align: top;\n",
       "    }\n",
       "\n",
       "    .dataframe thead th {\n",
       "        text-align: right;\n",
       "    }\n",
       "</style>\n",
       "<table border=\"1\" class=\"dataframe\">\n",
       "  <thead>\n",
       "    <tr style=\"text-align: right;\">\n",
       "      <th></th>\n",
       "      <th>country_name</th>\n",
       "      <th>average_ratings</th>\n",
       "    </tr>\n",
       "  </thead>\n",
       "  <tbody>\n",
       "    <tr>\n",
       "      <th>0</th>\n",
       "      <td>Israël</td>\n",
       "      <td>4.50</td>\n",
       "    </tr>\n",
       "    <tr>\n",
       "      <th>1</th>\n",
       "      <td>Allemagne</td>\n",
       "      <td>4.50</td>\n",
       "    </tr>\n",
       "    <tr>\n",
       "      <th>2</th>\n",
       "      <td>États-Unis</td>\n",
       "      <td>4.49</td>\n",
       "    </tr>\n",
       "    <tr>\n",
       "      <th>3</th>\n",
       "      <td>Moldavie</td>\n",
       "      <td>4.48</td>\n",
       "    </tr>\n",
       "    <tr>\n",
       "      <th>4</th>\n",
       "      <td>Hongrie</td>\n",
       "      <td>4.47</td>\n",
       "    </tr>\n",
       "    <tr>\n",
       "      <th>5</th>\n",
       "      <td>Australie</td>\n",
       "      <td>4.46</td>\n",
       "    </tr>\n",
       "    <tr>\n",
       "      <th>6</th>\n",
       "      <td>Afrique du Sud</td>\n",
       "      <td>4.46</td>\n",
       "    </tr>\n",
       "    <tr>\n",
       "      <th>7</th>\n",
       "      <td>France</td>\n",
       "      <td>4.45</td>\n",
       "    </tr>\n",
       "    <tr>\n",
       "      <th>8</th>\n",
       "      <td>Portugal</td>\n",
       "      <td>4.44</td>\n",
       "    </tr>\n",
       "    <tr>\n",
       "      <th>9</th>\n",
       "      <td>Espagne</td>\n",
       "      <td>4.44</td>\n",
       "    </tr>\n",
       "    <tr>\n",
       "      <th>10</th>\n",
       "      <td>Italie</td>\n",
       "      <td>4.43</td>\n",
       "    </tr>\n",
       "    <tr>\n",
       "      <th>11</th>\n",
       "      <td>Chili</td>\n",
       "      <td>4.43</td>\n",
       "    </tr>\n",
       "    <tr>\n",
       "      <th>12</th>\n",
       "      <td>Argentine</td>\n",
       "      <td>4.42</td>\n",
       "    </tr>\n",
       "    <tr>\n",
       "      <th>13</th>\n",
       "      <td>Roumanie</td>\n",
       "      <td>4.40</td>\n",
       "    </tr>\n",
       "    <tr>\n",
       "      <th>14</th>\n",
       "      <td>Grèce</td>\n",
       "      <td>4.40</td>\n",
       "    </tr>\n",
       "    <tr>\n",
       "      <th>15</th>\n",
       "      <td>Suisse</td>\n",
       "      <td>4.35</td>\n",
       "    </tr>\n",
       "    <tr>\n",
       "      <th>16</th>\n",
       "      <td>Croatie</td>\n",
       "      <td>4.30</td>\n",
       "    </tr>\n",
       "  </tbody>\n",
       "</table>\n",
       "</div>"
      ],
      "text/plain": [
       "      country_name  average_ratings\n",
       "0           Israël             4.50\n",
       "1        Allemagne             4.50\n",
       "2       États-Unis             4.49\n",
       "3         Moldavie             4.48\n",
       "4          Hongrie             4.47\n",
       "5        Australie             4.46\n",
       "6   Afrique du Sud             4.46\n",
       "7           France             4.45\n",
       "8         Portugal             4.44\n",
       "9          Espagne             4.44\n",
       "10          Italie             4.43\n",
       "11           Chili             4.43\n",
       "12       Argentine             4.42\n",
       "13        Roumanie             4.40\n",
       "14           Grèce             4.40\n",
       "15          Suisse             4.35\n",
       "16         Croatie             4.30"
      ]
     },
     "execution_count": 12,
     "metadata": {},
     "output_type": "execute_result"
    }
   ],
   "source": [
    "country_leaderboard = \"\"\"SELECT \n",
    "                    countries.name AS country_name,\n",
    "                    ROUND(AVG(ratings_average), 2) AS average_ratings\n",
    "                FROM \n",
    "                    countries\n",
    "                JOIN \n",
    "                    regions ON countries.code = regions.country_code\n",
    "                JOIN \n",
    "                    wines ON wines.region_id = regions.id\n",
    "                GROUP BY \n",
    "                    country_name\n",
    "                ORDER BY \n",
    "                    average_ratings DESC;\"\"\"\n",
    "\n",
    "country_leaderboard_df = pd.read_sql_query(country_leaderboard,connexion)\n",
    "country_leaderboard_df"
   ]
  },
  {
   "cell_type": "code",
   "execution_count": 19,
   "metadata": {},
   "outputs": [
    {
     "data": {
      "application/vnd.plotly.v1+json": {
       "config": {
        "plotlyServerURL": "https://plot.ly"
       },
       "data": [
        {
         "alignmentgroup": "True",
         "hovertemplate": "country_name=%{x}<br>average_ratings=%{y}<extra></extra>",
         "legendgroup": "",
         "marker": {
          "color": "#636efa",
          "pattern": {
           "shape": ""
          }
         },
         "name": "",
         "offsetgroup": "",
         "orientation": "v",
         "showlegend": false,
         "textposition": "auto",
         "type": "bar",
         "x": [
          "Israël",
          "Allemagne",
          "États-Unis",
          "Moldavie",
          "Hongrie",
          "Australie",
          "Afrique du Sud",
          "France",
          "Portugal",
          "Espagne",
          "Italie",
          "Chili",
          "Argentine",
          "Roumanie",
          "Grèce",
          "Suisse",
          "Croatie"
         ],
         "xaxis": "x",
         "y": [
          4.5,
          4.5,
          4.49,
          4.48,
          4.47,
          4.46,
          4.46,
          4.45,
          4.44,
          4.44,
          4.43,
          4.43,
          4.42,
          4.4,
          4.4,
          4.35,
          4.3
         ],
         "yaxis": "y"
        }
       ],
       "layout": {
        "barmode": "relative",
        "legend": {
         "tracegroupgap": 0
        },
        "template": {
         "data": {
          "bar": [
           {
            "error_x": {
             "color": "#2a3f5f"
            },
            "error_y": {
             "color": "#2a3f5f"
            },
            "marker": {
             "line": {
              "color": "#E5ECF6",
              "width": 0.5
             },
             "pattern": {
              "fillmode": "overlay",
              "size": 10,
              "solidity": 0.2
             }
            },
            "type": "bar"
           }
          ],
          "barpolar": [
           {
            "marker": {
             "line": {
              "color": "#E5ECF6",
              "width": 0.5
             },
             "pattern": {
              "fillmode": "overlay",
              "size": 10,
              "solidity": 0.2
             }
            },
            "type": "barpolar"
           }
          ],
          "carpet": [
           {
            "aaxis": {
             "endlinecolor": "#2a3f5f",
             "gridcolor": "white",
             "linecolor": "white",
             "minorgridcolor": "white",
             "startlinecolor": "#2a3f5f"
            },
            "baxis": {
             "endlinecolor": "#2a3f5f",
             "gridcolor": "white",
             "linecolor": "white",
             "minorgridcolor": "white",
             "startlinecolor": "#2a3f5f"
            },
            "type": "carpet"
           }
          ],
          "choropleth": [
           {
            "colorbar": {
             "outlinewidth": 0,
             "ticks": ""
            },
            "type": "choropleth"
           }
          ],
          "contour": [
           {
            "colorbar": {
             "outlinewidth": 0,
             "ticks": ""
            },
            "colorscale": [
             [
              0,
              "#0d0887"
             ],
             [
              0.1111111111111111,
              "#46039f"
             ],
             [
              0.2222222222222222,
              "#7201a8"
             ],
             [
              0.3333333333333333,
              "#9c179e"
             ],
             [
              0.4444444444444444,
              "#bd3786"
             ],
             [
              0.5555555555555556,
              "#d8576b"
             ],
             [
              0.6666666666666666,
              "#ed7953"
             ],
             [
              0.7777777777777778,
              "#fb9f3a"
             ],
             [
              0.8888888888888888,
              "#fdca26"
             ],
             [
              1,
              "#f0f921"
             ]
            ],
            "type": "contour"
           }
          ],
          "contourcarpet": [
           {
            "colorbar": {
             "outlinewidth": 0,
             "ticks": ""
            },
            "type": "contourcarpet"
           }
          ],
          "heatmap": [
           {
            "colorbar": {
             "outlinewidth": 0,
             "ticks": ""
            },
            "colorscale": [
             [
              0,
              "#0d0887"
             ],
             [
              0.1111111111111111,
              "#46039f"
             ],
             [
              0.2222222222222222,
              "#7201a8"
             ],
             [
              0.3333333333333333,
              "#9c179e"
             ],
             [
              0.4444444444444444,
              "#bd3786"
             ],
             [
              0.5555555555555556,
              "#d8576b"
             ],
             [
              0.6666666666666666,
              "#ed7953"
             ],
             [
              0.7777777777777778,
              "#fb9f3a"
             ],
             [
              0.8888888888888888,
              "#fdca26"
             ],
             [
              1,
              "#f0f921"
             ]
            ],
            "type": "heatmap"
           }
          ],
          "heatmapgl": [
           {
            "colorbar": {
             "outlinewidth": 0,
             "ticks": ""
            },
            "colorscale": [
             [
              0,
              "#0d0887"
             ],
             [
              0.1111111111111111,
              "#46039f"
             ],
             [
              0.2222222222222222,
              "#7201a8"
             ],
             [
              0.3333333333333333,
              "#9c179e"
             ],
             [
              0.4444444444444444,
              "#bd3786"
             ],
             [
              0.5555555555555556,
              "#d8576b"
             ],
             [
              0.6666666666666666,
              "#ed7953"
             ],
             [
              0.7777777777777778,
              "#fb9f3a"
             ],
             [
              0.8888888888888888,
              "#fdca26"
             ],
             [
              1,
              "#f0f921"
             ]
            ],
            "type": "heatmapgl"
           }
          ],
          "histogram": [
           {
            "marker": {
             "pattern": {
              "fillmode": "overlay",
              "size": 10,
              "solidity": 0.2
             }
            },
            "type": "histogram"
           }
          ],
          "histogram2d": [
           {
            "colorbar": {
             "outlinewidth": 0,
             "ticks": ""
            },
            "colorscale": [
             [
              0,
              "#0d0887"
             ],
             [
              0.1111111111111111,
              "#46039f"
             ],
             [
              0.2222222222222222,
              "#7201a8"
             ],
             [
              0.3333333333333333,
              "#9c179e"
             ],
             [
              0.4444444444444444,
              "#bd3786"
             ],
             [
              0.5555555555555556,
              "#d8576b"
             ],
             [
              0.6666666666666666,
              "#ed7953"
             ],
             [
              0.7777777777777778,
              "#fb9f3a"
             ],
             [
              0.8888888888888888,
              "#fdca26"
             ],
             [
              1,
              "#f0f921"
             ]
            ],
            "type": "histogram2d"
           }
          ],
          "histogram2dcontour": [
           {
            "colorbar": {
             "outlinewidth": 0,
             "ticks": ""
            },
            "colorscale": [
             [
              0,
              "#0d0887"
             ],
             [
              0.1111111111111111,
              "#46039f"
             ],
             [
              0.2222222222222222,
              "#7201a8"
             ],
             [
              0.3333333333333333,
              "#9c179e"
             ],
             [
              0.4444444444444444,
              "#bd3786"
             ],
             [
              0.5555555555555556,
              "#d8576b"
             ],
             [
              0.6666666666666666,
              "#ed7953"
             ],
             [
              0.7777777777777778,
              "#fb9f3a"
             ],
             [
              0.8888888888888888,
              "#fdca26"
             ],
             [
              1,
              "#f0f921"
             ]
            ],
            "type": "histogram2dcontour"
           }
          ],
          "mesh3d": [
           {
            "colorbar": {
             "outlinewidth": 0,
             "ticks": ""
            },
            "type": "mesh3d"
           }
          ],
          "parcoords": [
           {
            "line": {
             "colorbar": {
              "outlinewidth": 0,
              "ticks": ""
             }
            },
            "type": "parcoords"
           }
          ],
          "pie": [
           {
            "automargin": true,
            "type": "pie"
           }
          ],
          "scatter": [
           {
            "fillpattern": {
             "fillmode": "overlay",
             "size": 10,
             "solidity": 0.2
            },
            "type": "scatter"
           }
          ],
          "scatter3d": [
           {
            "line": {
             "colorbar": {
              "outlinewidth": 0,
              "ticks": ""
             }
            },
            "marker": {
             "colorbar": {
              "outlinewidth": 0,
              "ticks": ""
             }
            },
            "type": "scatter3d"
           }
          ],
          "scattercarpet": [
           {
            "marker": {
             "colorbar": {
              "outlinewidth": 0,
              "ticks": ""
             }
            },
            "type": "scattercarpet"
           }
          ],
          "scattergeo": [
           {
            "marker": {
             "colorbar": {
              "outlinewidth": 0,
              "ticks": ""
             }
            },
            "type": "scattergeo"
           }
          ],
          "scattergl": [
           {
            "marker": {
             "colorbar": {
              "outlinewidth": 0,
              "ticks": ""
             }
            },
            "type": "scattergl"
           }
          ],
          "scattermapbox": [
           {
            "marker": {
             "colorbar": {
              "outlinewidth": 0,
              "ticks": ""
             }
            },
            "type": "scattermapbox"
           }
          ],
          "scatterpolar": [
           {
            "marker": {
             "colorbar": {
              "outlinewidth": 0,
              "ticks": ""
             }
            },
            "type": "scatterpolar"
           }
          ],
          "scatterpolargl": [
           {
            "marker": {
             "colorbar": {
              "outlinewidth": 0,
              "ticks": ""
             }
            },
            "type": "scatterpolargl"
           }
          ],
          "scatterternary": [
           {
            "marker": {
             "colorbar": {
              "outlinewidth": 0,
              "ticks": ""
             }
            },
            "type": "scatterternary"
           }
          ],
          "surface": [
           {
            "colorbar": {
             "outlinewidth": 0,
             "ticks": ""
            },
            "colorscale": [
             [
              0,
              "#0d0887"
             ],
             [
              0.1111111111111111,
              "#46039f"
             ],
             [
              0.2222222222222222,
              "#7201a8"
             ],
             [
              0.3333333333333333,
              "#9c179e"
             ],
             [
              0.4444444444444444,
              "#bd3786"
             ],
             [
              0.5555555555555556,
              "#d8576b"
             ],
             [
              0.6666666666666666,
              "#ed7953"
             ],
             [
              0.7777777777777778,
              "#fb9f3a"
             ],
             [
              0.8888888888888888,
              "#fdca26"
             ],
             [
              1,
              "#f0f921"
             ]
            ],
            "type": "surface"
           }
          ],
          "table": [
           {
            "cells": {
             "fill": {
              "color": "#EBF0F8"
             },
             "line": {
              "color": "white"
             }
            },
            "header": {
             "fill": {
              "color": "#C8D4E3"
             },
             "line": {
              "color": "white"
             }
            },
            "type": "table"
           }
          ]
         },
         "layout": {
          "annotationdefaults": {
           "arrowcolor": "#2a3f5f",
           "arrowhead": 0,
           "arrowwidth": 1
          },
          "autotypenumbers": "strict",
          "coloraxis": {
           "colorbar": {
            "outlinewidth": 0,
            "ticks": ""
           }
          },
          "colorscale": {
           "diverging": [
            [
             0,
             "#8e0152"
            ],
            [
             0.1,
             "#c51b7d"
            ],
            [
             0.2,
             "#de77ae"
            ],
            [
             0.3,
             "#f1b6da"
            ],
            [
             0.4,
             "#fde0ef"
            ],
            [
             0.5,
             "#f7f7f7"
            ],
            [
             0.6,
             "#e6f5d0"
            ],
            [
             0.7,
             "#b8e186"
            ],
            [
             0.8,
             "#7fbc41"
            ],
            [
             0.9,
             "#4d9221"
            ],
            [
             1,
             "#276419"
            ]
           ],
           "sequential": [
            [
             0,
             "#0d0887"
            ],
            [
             0.1111111111111111,
             "#46039f"
            ],
            [
             0.2222222222222222,
             "#7201a8"
            ],
            [
             0.3333333333333333,
             "#9c179e"
            ],
            [
             0.4444444444444444,
             "#bd3786"
            ],
            [
             0.5555555555555556,
             "#d8576b"
            ],
            [
             0.6666666666666666,
             "#ed7953"
            ],
            [
             0.7777777777777778,
             "#fb9f3a"
            ],
            [
             0.8888888888888888,
             "#fdca26"
            ],
            [
             1,
             "#f0f921"
            ]
           ],
           "sequentialminus": [
            [
             0,
             "#0d0887"
            ],
            [
             0.1111111111111111,
             "#46039f"
            ],
            [
             0.2222222222222222,
             "#7201a8"
            ],
            [
             0.3333333333333333,
             "#9c179e"
            ],
            [
             0.4444444444444444,
             "#bd3786"
            ],
            [
             0.5555555555555556,
             "#d8576b"
            ],
            [
             0.6666666666666666,
             "#ed7953"
            ],
            [
             0.7777777777777778,
             "#fb9f3a"
            ],
            [
             0.8888888888888888,
             "#fdca26"
            ],
            [
             1,
             "#f0f921"
            ]
           ]
          },
          "colorway": [
           "#636efa",
           "#EF553B",
           "#00cc96",
           "#ab63fa",
           "#FFA15A",
           "#19d3f3",
           "#FF6692",
           "#B6E880",
           "#FF97FF",
           "#FECB52"
          ],
          "font": {
           "color": "#2a3f5f"
          },
          "geo": {
           "bgcolor": "white",
           "lakecolor": "white",
           "landcolor": "#E5ECF6",
           "showlakes": true,
           "showland": true,
           "subunitcolor": "white"
          },
          "hoverlabel": {
           "align": "left"
          },
          "hovermode": "closest",
          "mapbox": {
           "style": "light"
          },
          "paper_bgcolor": "white",
          "plot_bgcolor": "#E5ECF6",
          "polar": {
           "angularaxis": {
            "gridcolor": "white",
            "linecolor": "white",
            "ticks": ""
           },
           "bgcolor": "#E5ECF6",
           "radialaxis": {
            "gridcolor": "white",
            "linecolor": "white",
            "ticks": ""
           }
          },
          "scene": {
           "xaxis": {
            "backgroundcolor": "#E5ECF6",
            "gridcolor": "white",
            "gridwidth": 2,
            "linecolor": "white",
            "showbackground": true,
            "ticks": "",
            "zerolinecolor": "white"
           },
           "yaxis": {
            "backgroundcolor": "#E5ECF6",
            "gridcolor": "white",
            "gridwidth": 2,
            "linecolor": "white",
            "showbackground": true,
            "ticks": "",
            "zerolinecolor": "white"
           },
           "zaxis": {
            "backgroundcolor": "#E5ECF6",
            "gridcolor": "white",
            "gridwidth": 2,
            "linecolor": "white",
            "showbackground": true,
            "ticks": "",
            "zerolinecolor": "white"
           }
          },
          "shapedefaults": {
           "line": {
            "color": "#2a3f5f"
           }
          },
          "ternary": {
           "aaxis": {
            "gridcolor": "white",
            "linecolor": "white",
            "ticks": ""
           },
           "baxis": {
            "gridcolor": "white",
            "linecolor": "white",
            "ticks": ""
           },
           "bgcolor": "#E5ECF6",
           "caxis": {
            "gridcolor": "white",
            "linecolor": "white",
            "ticks": ""
           }
          },
          "title": {
           "x": 0.05
          },
          "xaxis": {
           "automargin": true,
           "gridcolor": "white",
           "linecolor": "white",
           "ticks": "",
           "title": {
            "standoff": 15
           },
           "zerolinecolor": "white",
           "zerolinewidth": 2
          },
          "yaxis": {
           "automargin": true,
           "gridcolor": "white",
           "linecolor": "white",
           "ticks": "",
           "title": {
            "standoff": 15
           },
           "zerolinecolor": "white",
           "zerolinewidth": 2
          }
         }
        },
        "title": {
         "text": "Country Leaderboard For Average Wine Ratings"
        },
        "xaxis": {
         "anchor": "y",
         "domain": [
          0,
          1
         ],
         "title": {
          "text": "country_name"
         }
        },
        "yaxis": {
         "anchor": "x",
         "domain": [
          0,
          1
         ],
         "title": {
          "text": "average_ratings"
         }
        }
       }
      }
     },
     "metadata": {},
     "output_type": "display_data"
    }
   ],
   "source": [
    "import plotly.express as px\n",
    "\n",
    "fig = px.bar(country_leaderboard_df, x = \"country_name\", y = \"average_ratings\", title= \"Country Leaderboard For Average Wine Ratings\")\n",
    "fig.show()"
   ]
  },
  {
   "cell_type": "code",
   "execution_count": 20,
   "metadata": {},
   "outputs": [
    {
     "data": {
      "text/html": [
       "<div>\n",
       "<style scoped>\n",
       "    .dataframe tbody tr th:only-of-type {\n",
       "        vertical-align: middle;\n",
       "    }\n",
       "\n",
       "    .dataframe tbody tr th {\n",
       "        vertical-align: top;\n",
       "    }\n",
       "\n",
       "    .dataframe thead th {\n",
       "        text-align: right;\n",
       "    }\n",
       "</style>\n",
       "<table border=\"1\" class=\"dataframe\">\n",
       "  <thead>\n",
       "    <tr style=\"text-align: right;\">\n",
       "      <th></th>\n",
       "      <th>country_name</th>\n",
       "      <th>average_ratings</th>\n",
       "    </tr>\n",
       "  </thead>\n",
       "  <tbody>\n",
       "    <tr>\n",
       "      <th>0</th>\n",
       "      <td>Roumanie</td>\n",
       "      <td>4.50</td>\n",
       "    </tr>\n",
       "    <tr>\n",
       "      <th>1</th>\n",
       "      <td>Croatie</td>\n",
       "      <td>4.40</td>\n",
       "    </tr>\n",
       "    <tr>\n",
       "      <th>2</th>\n",
       "      <td>Argentine</td>\n",
       "      <td>4.32</td>\n",
       "    </tr>\n",
       "    <tr>\n",
       "      <th>3</th>\n",
       "      <td>Chili</td>\n",
       "      <td>4.12</td>\n",
       "    </tr>\n",
       "    <tr>\n",
       "      <th>4</th>\n",
       "      <td>Portugal</td>\n",
       "      <td>3.93</td>\n",
       "    </tr>\n",
       "    <tr>\n",
       "      <th>5</th>\n",
       "      <td>Moldavie</td>\n",
       "      <td>3.87</td>\n",
       "    </tr>\n",
       "    <tr>\n",
       "      <th>6</th>\n",
       "      <td>États-Unis</td>\n",
       "      <td>3.70</td>\n",
       "    </tr>\n",
       "    <tr>\n",
       "      <th>7</th>\n",
       "      <td>Afrique du Sud</td>\n",
       "      <td>3.66</td>\n",
       "    </tr>\n",
       "    <tr>\n",
       "      <th>8</th>\n",
       "      <td>Italie</td>\n",
       "      <td>3.63</td>\n",
       "    </tr>\n",
       "    <tr>\n",
       "      <th>9</th>\n",
       "      <td>Espagne</td>\n",
       "      <td>3.38</td>\n",
       "    </tr>\n",
       "    <tr>\n",
       "      <th>10</th>\n",
       "      <td>Hongrie</td>\n",
       "      <td>3.17</td>\n",
       "    </tr>\n",
       "    <tr>\n",
       "      <th>11</th>\n",
       "      <td>France</td>\n",
       "      <td>3.07</td>\n",
       "    </tr>\n",
       "    <tr>\n",
       "      <th>12</th>\n",
       "      <td>Australie</td>\n",
       "      <td>2.83</td>\n",
       "    </tr>\n",
       "    <tr>\n",
       "      <th>13</th>\n",
       "      <td>Grèce</td>\n",
       "      <td>2.30</td>\n",
       "    </tr>\n",
       "    <tr>\n",
       "      <th>14</th>\n",
       "      <td>Suisse</td>\n",
       "      <td>2.20</td>\n",
       "    </tr>\n",
       "    <tr>\n",
       "      <th>15</th>\n",
       "      <td>Allemagne</td>\n",
       "      <td>1.70</td>\n",
       "    </tr>\n",
       "    <tr>\n",
       "      <th>16</th>\n",
       "      <td>Israël</td>\n",
       "      <td>0.00</td>\n",
       "    </tr>\n",
       "  </tbody>\n",
       "</table>\n",
       "</div>"
      ],
      "text/plain": [
       "      country_name  average_ratings\n",
       "0         Roumanie             4.50\n",
       "1          Croatie             4.40\n",
       "2        Argentine             4.32\n",
       "3            Chili             4.12\n",
       "4         Portugal             3.93\n",
       "5         Moldavie             3.87\n",
       "6       États-Unis             3.70\n",
       "7   Afrique du Sud             3.66\n",
       "8           Italie             3.63\n",
       "9          Espagne             3.38\n",
       "10         Hongrie             3.17\n",
       "11          France             3.07\n",
       "12       Australie             2.83\n",
       "13           Grèce             2.30\n",
       "14          Suisse             2.20\n",
       "15       Allemagne             1.70\n",
       "16          Israël             0.00"
      ]
     },
     "execution_count": 20,
     "metadata": {},
     "output_type": "execute_result"
    }
   ],
   "source": [
    "country_vintage_leaderboard = \"\"\"SELECT \n",
    "                    countries.name AS country_name,\n",
    "                    ROUND(AVG(vintages.ratings_average), 2) AS average_ratings\n",
    "                FROM \n",
    "                    countries\n",
    "                JOIN \n",
    "                    regions ON countries.code = regions.country_code\n",
    "                JOIN \n",
    "                    wines ON wines.region_id = regions.id\n",
    "\t\t\t\tJOIN \n",
    "\t\t\t\t\tvintages ON wines.id = vintages.wine_id\n",
    "                GROUP BY \n",
    "                    country_name\n",
    "                ORDER BY \n",
    "                    average_ratings DESC;\"\"\"\n",
    "\n",
    "country_vintage_leaderboard_df = pd.read_sql_query(country_vintage_leaderboard,connexion)\n",
    "country_vintage_leaderboard_df"
   ]
  },
  {
   "cell_type": "code",
   "execution_count": 21,
   "metadata": {},
   "outputs": [
    {
     "data": {
      "application/vnd.plotly.v1+json": {
       "config": {
        "plotlyServerURL": "https://plot.ly"
       },
       "data": [
        {
         "alignmentgroup": "True",
         "hovertemplate": "country_name=%{x}<br>average_ratings=%{y}<extra></extra>",
         "legendgroup": "",
         "marker": {
          "color": "#636efa",
          "pattern": {
           "shape": ""
          }
         },
         "name": "",
         "offsetgroup": "",
         "orientation": "v",
         "showlegend": false,
         "textposition": "auto",
         "type": "bar",
         "x": [
          "Roumanie",
          "Croatie",
          "Argentine",
          "Chili",
          "Portugal",
          "Moldavie",
          "États-Unis",
          "Afrique du Sud",
          "Italie",
          "Espagne",
          "Hongrie",
          "France",
          "Australie",
          "Grèce",
          "Suisse",
          "Allemagne",
          "Israël"
         ],
         "xaxis": "x",
         "y": [
          4.5,
          4.4,
          4.32,
          4.12,
          3.93,
          3.87,
          3.7,
          3.66,
          3.63,
          3.38,
          3.17,
          3.07,
          2.83,
          2.3,
          2.2,
          1.7,
          0
         ],
         "yaxis": "y"
        }
       ],
       "layout": {
        "barmode": "relative",
        "legend": {
         "tracegroupgap": 0
        },
        "template": {
         "data": {
          "bar": [
           {
            "error_x": {
             "color": "#2a3f5f"
            },
            "error_y": {
             "color": "#2a3f5f"
            },
            "marker": {
             "line": {
              "color": "#E5ECF6",
              "width": 0.5
             },
             "pattern": {
              "fillmode": "overlay",
              "size": 10,
              "solidity": 0.2
             }
            },
            "type": "bar"
           }
          ],
          "barpolar": [
           {
            "marker": {
             "line": {
              "color": "#E5ECF6",
              "width": 0.5
             },
             "pattern": {
              "fillmode": "overlay",
              "size": 10,
              "solidity": 0.2
             }
            },
            "type": "barpolar"
           }
          ],
          "carpet": [
           {
            "aaxis": {
             "endlinecolor": "#2a3f5f",
             "gridcolor": "white",
             "linecolor": "white",
             "minorgridcolor": "white",
             "startlinecolor": "#2a3f5f"
            },
            "baxis": {
             "endlinecolor": "#2a3f5f",
             "gridcolor": "white",
             "linecolor": "white",
             "minorgridcolor": "white",
             "startlinecolor": "#2a3f5f"
            },
            "type": "carpet"
           }
          ],
          "choropleth": [
           {
            "colorbar": {
             "outlinewidth": 0,
             "ticks": ""
            },
            "type": "choropleth"
           }
          ],
          "contour": [
           {
            "colorbar": {
             "outlinewidth": 0,
             "ticks": ""
            },
            "colorscale": [
             [
              0,
              "#0d0887"
             ],
             [
              0.1111111111111111,
              "#46039f"
             ],
             [
              0.2222222222222222,
              "#7201a8"
             ],
             [
              0.3333333333333333,
              "#9c179e"
             ],
             [
              0.4444444444444444,
              "#bd3786"
             ],
             [
              0.5555555555555556,
              "#d8576b"
             ],
             [
              0.6666666666666666,
              "#ed7953"
             ],
             [
              0.7777777777777778,
              "#fb9f3a"
             ],
             [
              0.8888888888888888,
              "#fdca26"
             ],
             [
              1,
              "#f0f921"
             ]
            ],
            "type": "contour"
           }
          ],
          "contourcarpet": [
           {
            "colorbar": {
             "outlinewidth": 0,
             "ticks": ""
            },
            "type": "contourcarpet"
           }
          ],
          "heatmap": [
           {
            "colorbar": {
             "outlinewidth": 0,
             "ticks": ""
            },
            "colorscale": [
             [
              0,
              "#0d0887"
             ],
             [
              0.1111111111111111,
              "#46039f"
             ],
             [
              0.2222222222222222,
              "#7201a8"
             ],
             [
              0.3333333333333333,
              "#9c179e"
             ],
             [
              0.4444444444444444,
              "#bd3786"
             ],
             [
              0.5555555555555556,
              "#d8576b"
             ],
             [
              0.6666666666666666,
              "#ed7953"
             ],
             [
              0.7777777777777778,
              "#fb9f3a"
             ],
             [
              0.8888888888888888,
              "#fdca26"
             ],
             [
              1,
              "#f0f921"
             ]
            ],
            "type": "heatmap"
           }
          ],
          "heatmapgl": [
           {
            "colorbar": {
             "outlinewidth": 0,
             "ticks": ""
            },
            "colorscale": [
             [
              0,
              "#0d0887"
             ],
             [
              0.1111111111111111,
              "#46039f"
             ],
             [
              0.2222222222222222,
              "#7201a8"
             ],
             [
              0.3333333333333333,
              "#9c179e"
             ],
             [
              0.4444444444444444,
              "#bd3786"
             ],
             [
              0.5555555555555556,
              "#d8576b"
             ],
             [
              0.6666666666666666,
              "#ed7953"
             ],
             [
              0.7777777777777778,
              "#fb9f3a"
             ],
             [
              0.8888888888888888,
              "#fdca26"
             ],
             [
              1,
              "#f0f921"
             ]
            ],
            "type": "heatmapgl"
           }
          ],
          "histogram": [
           {
            "marker": {
             "pattern": {
              "fillmode": "overlay",
              "size": 10,
              "solidity": 0.2
             }
            },
            "type": "histogram"
           }
          ],
          "histogram2d": [
           {
            "colorbar": {
             "outlinewidth": 0,
             "ticks": ""
            },
            "colorscale": [
             [
              0,
              "#0d0887"
             ],
             [
              0.1111111111111111,
              "#46039f"
             ],
             [
              0.2222222222222222,
              "#7201a8"
             ],
             [
              0.3333333333333333,
              "#9c179e"
             ],
             [
              0.4444444444444444,
              "#bd3786"
             ],
             [
              0.5555555555555556,
              "#d8576b"
             ],
             [
              0.6666666666666666,
              "#ed7953"
             ],
             [
              0.7777777777777778,
              "#fb9f3a"
             ],
             [
              0.8888888888888888,
              "#fdca26"
             ],
             [
              1,
              "#f0f921"
             ]
            ],
            "type": "histogram2d"
           }
          ],
          "histogram2dcontour": [
           {
            "colorbar": {
             "outlinewidth": 0,
             "ticks": ""
            },
            "colorscale": [
             [
              0,
              "#0d0887"
             ],
             [
              0.1111111111111111,
              "#46039f"
             ],
             [
              0.2222222222222222,
              "#7201a8"
             ],
             [
              0.3333333333333333,
              "#9c179e"
             ],
             [
              0.4444444444444444,
              "#bd3786"
             ],
             [
              0.5555555555555556,
              "#d8576b"
             ],
             [
              0.6666666666666666,
              "#ed7953"
             ],
             [
              0.7777777777777778,
              "#fb9f3a"
             ],
             [
              0.8888888888888888,
              "#fdca26"
             ],
             [
              1,
              "#f0f921"
             ]
            ],
            "type": "histogram2dcontour"
           }
          ],
          "mesh3d": [
           {
            "colorbar": {
             "outlinewidth": 0,
             "ticks": ""
            },
            "type": "mesh3d"
           }
          ],
          "parcoords": [
           {
            "line": {
             "colorbar": {
              "outlinewidth": 0,
              "ticks": ""
             }
            },
            "type": "parcoords"
           }
          ],
          "pie": [
           {
            "automargin": true,
            "type": "pie"
           }
          ],
          "scatter": [
           {
            "fillpattern": {
             "fillmode": "overlay",
             "size": 10,
             "solidity": 0.2
            },
            "type": "scatter"
           }
          ],
          "scatter3d": [
           {
            "line": {
             "colorbar": {
              "outlinewidth": 0,
              "ticks": ""
             }
            },
            "marker": {
             "colorbar": {
              "outlinewidth": 0,
              "ticks": ""
             }
            },
            "type": "scatter3d"
           }
          ],
          "scattercarpet": [
           {
            "marker": {
             "colorbar": {
              "outlinewidth": 0,
              "ticks": ""
             }
            },
            "type": "scattercarpet"
           }
          ],
          "scattergeo": [
           {
            "marker": {
             "colorbar": {
              "outlinewidth": 0,
              "ticks": ""
             }
            },
            "type": "scattergeo"
           }
          ],
          "scattergl": [
           {
            "marker": {
             "colorbar": {
              "outlinewidth": 0,
              "ticks": ""
             }
            },
            "type": "scattergl"
           }
          ],
          "scattermapbox": [
           {
            "marker": {
             "colorbar": {
              "outlinewidth": 0,
              "ticks": ""
             }
            },
            "type": "scattermapbox"
           }
          ],
          "scatterpolar": [
           {
            "marker": {
             "colorbar": {
              "outlinewidth": 0,
              "ticks": ""
             }
            },
            "type": "scatterpolar"
           }
          ],
          "scatterpolargl": [
           {
            "marker": {
             "colorbar": {
              "outlinewidth": 0,
              "ticks": ""
             }
            },
            "type": "scatterpolargl"
           }
          ],
          "scatterternary": [
           {
            "marker": {
             "colorbar": {
              "outlinewidth": 0,
              "ticks": ""
             }
            },
            "type": "scatterternary"
           }
          ],
          "surface": [
           {
            "colorbar": {
             "outlinewidth": 0,
             "ticks": ""
            },
            "colorscale": [
             [
              0,
              "#0d0887"
             ],
             [
              0.1111111111111111,
              "#46039f"
             ],
             [
              0.2222222222222222,
              "#7201a8"
             ],
             [
              0.3333333333333333,
              "#9c179e"
             ],
             [
              0.4444444444444444,
              "#bd3786"
             ],
             [
              0.5555555555555556,
              "#d8576b"
             ],
             [
              0.6666666666666666,
              "#ed7953"
             ],
             [
              0.7777777777777778,
              "#fb9f3a"
             ],
             [
              0.8888888888888888,
              "#fdca26"
             ],
             [
              1,
              "#f0f921"
             ]
            ],
            "type": "surface"
           }
          ],
          "table": [
           {
            "cells": {
             "fill": {
              "color": "#EBF0F8"
             },
             "line": {
              "color": "white"
             }
            },
            "header": {
             "fill": {
              "color": "#C8D4E3"
             },
             "line": {
              "color": "white"
             }
            },
            "type": "table"
           }
          ]
         },
         "layout": {
          "annotationdefaults": {
           "arrowcolor": "#2a3f5f",
           "arrowhead": 0,
           "arrowwidth": 1
          },
          "autotypenumbers": "strict",
          "coloraxis": {
           "colorbar": {
            "outlinewidth": 0,
            "ticks": ""
           }
          },
          "colorscale": {
           "diverging": [
            [
             0,
             "#8e0152"
            ],
            [
             0.1,
             "#c51b7d"
            ],
            [
             0.2,
             "#de77ae"
            ],
            [
             0.3,
             "#f1b6da"
            ],
            [
             0.4,
             "#fde0ef"
            ],
            [
             0.5,
             "#f7f7f7"
            ],
            [
             0.6,
             "#e6f5d0"
            ],
            [
             0.7,
             "#b8e186"
            ],
            [
             0.8,
             "#7fbc41"
            ],
            [
             0.9,
             "#4d9221"
            ],
            [
             1,
             "#276419"
            ]
           ],
           "sequential": [
            [
             0,
             "#0d0887"
            ],
            [
             0.1111111111111111,
             "#46039f"
            ],
            [
             0.2222222222222222,
             "#7201a8"
            ],
            [
             0.3333333333333333,
             "#9c179e"
            ],
            [
             0.4444444444444444,
             "#bd3786"
            ],
            [
             0.5555555555555556,
             "#d8576b"
            ],
            [
             0.6666666666666666,
             "#ed7953"
            ],
            [
             0.7777777777777778,
             "#fb9f3a"
            ],
            [
             0.8888888888888888,
             "#fdca26"
            ],
            [
             1,
             "#f0f921"
            ]
           ],
           "sequentialminus": [
            [
             0,
             "#0d0887"
            ],
            [
             0.1111111111111111,
             "#46039f"
            ],
            [
             0.2222222222222222,
             "#7201a8"
            ],
            [
             0.3333333333333333,
             "#9c179e"
            ],
            [
             0.4444444444444444,
             "#bd3786"
            ],
            [
             0.5555555555555556,
             "#d8576b"
            ],
            [
             0.6666666666666666,
             "#ed7953"
            ],
            [
             0.7777777777777778,
             "#fb9f3a"
            ],
            [
             0.8888888888888888,
             "#fdca26"
            ],
            [
             1,
             "#f0f921"
            ]
           ]
          },
          "colorway": [
           "#636efa",
           "#EF553B",
           "#00cc96",
           "#ab63fa",
           "#FFA15A",
           "#19d3f3",
           "#FF6692",
           "#B6E880",
           "#FF97FF",
           "#FECB52"
          ],
          "font": {
           "color": "#2a3f5f"
          },
          "geo": {
           "bgcolor": "white",
           "lakecolor": "white",
           "landcolor": "#E5ECF6",
           "showlakes": true,
           "showland": true,
           "subunitcolor": "white"
          },
          "hoverlabel": {
           "align": "left"
          },
          "hovermode": "closest",
          "mapbox": {
           "style": "light"
          },
          "paper_bgcolor": "white",
          "plot_bgcolor": "#E5ECF6",
          "polar": {
           "angularaxis": {
            "gridcolor": "white",
            "linecolor": "white",
            "ticks": ""
           },
           "bgcolor": "#E5ECF6",
           "radialaxis": {
            "gridcolor": "white",
            "linecolor": "white",
            "ticks": ""
           }
          },
          "scene": {
           "xaxis": {
            "backgroundcolor": "#E5ECF6",
            "gridcolor": "white",
            "gridwidth": 2,
            "linecolor": "white",
            "showbackground": true,
            "ticks": "",
            "zerolinecolor": "white"
           },
           "yaxis": {
            "backgroundcolor": "#E5ECF6",
            "gridcolor": "white",
            "gridwidth": 2,
            "linecolor": "white",
            "showbackground": true,
            "ticks": "",
            "zerolinecolor": "white"
           },
           "zaxis": {
            "backgroundcolor": "#E5ECF6",
            "gridcolor": "white",
            "gridwidth": 2,
            "linecolor": "white",
            "showbackground": true,
            "ticks": "",
            "zerolinecolor": "white"
           }
          },
          "shapedefaults": {
           "line": {
            "color": "#2a3f5f"
           }
          },
          "ternary": {
           "aaxis": {
            "gridcolor": "white",
            "linecolor": "white",
            "ticks": ""
           },
           "baxis": {
            "gridcolor": "white",
            "linecolor": "white",
            "ticks": ""
           },
           "bgcolor": "#E5ECF6",
           "caxis": {
            "gridcolor": "white",
            "linecolor": "white",
            "ticks": ""
           }
          },
          "title": {
           "x": 0.05
          },
          "xaxis": {
           "automargin": true,
           "gridcolor": "white",
           "linecolor": "white",
           "ticks": "",
           "title": {
            "standoff": 15
           },
           "zerolinecolor": "white",
           "zerolinewidth": 2
          },
          "yaxis": {
           "automargin": true,
           "gridcolor": "white",
           "linecolor": "white",
           "ticks": "",
           "title": {
            "standoff": 15
           },
           "zerolinecolor": "white",
           "zerolinewidth": 2
          }
         }
        },
        "title": {
         "text": "Country Leaderboard For Average Vintage Ratings"
        },
        "xaxis": {
         "anchor": "y",
         "domain": [
          0,
          1
         ],
         "title": {
          "text": "country_name"
         }
        },
        "yaxis": {
         "anchor": "x",
         "domain": [
          0,
          1
         ],
         "title": {
          "text": "average_ratings"
         }
        }
       }
      }
     },
     "metadata": {},
     "output_type": "display_data"
    }
   ],
   "source": [
    "fig = px.bar(country_vintage_leaderboard_df, x = \"country_name\", y = \"average_ratings\", title= \"Country Leaderboard For Average Vintage Ratings\")\n",
    "fig.show()"
   ]
  },
  {
   "cell_type": "markdown",
   "metadata": {},
   "source": [
    "A vintage leaderboard. Average wine rating for all top rating vintages"
   ]
  },
  {
   "cell_type": "code",
   "execution_count": 14,
   "metadata": {},
   "outputs": [
    {
     "data": {
      "text/html": [
       "<div>\n",
       "<style scoped>\n",
       "    .dataframe tbody tr th:only-of-type {\n",
       "        vertical-align: middle;\n",
       "    }\n",
       "\n",
       "    .dataframe tbody tr th {\n",
       "        vertical-align: top;\n",
       "    }\n",
       "\n",
       "    .dataframe thead th {\n",
       "        text-align: right;\n",
       "    }\n",
       "</style>\n",
       "<table border=\"1\" class=\"dataframe\">\n",
       "  <thead>\n",
       "    <tr style=\"text-align: right;\">\n",
       "      <th></th>\n",
       "      <th>vintage_name</th>\n",
       "      <th>wines_average_ratings</th>\n",
       "      <th>wine_id</th>\n",
       "    </tr>\n",
       "  </thead>\n",
       "  <tbody>\n",
       "    <tr>\n",
       "      <th>0</th>\n",
       "      <td>Scarecrow Cabernet Sauvignon 2015</td>\n",
       "      <td>4.8</td>\n",
       "      <td>1611255</td>\n",
       "    </tr>\n",
       "    <tr>\n",
       "      <th>1</th>\n",
       "      <td>Masseto Toscana 2006</td>\n",
       "      <td>4.7</td>\n",
       "      <td>2446729</td>\n",
       "    </tr>\n",
       "    <tr>\n",
       "      <th>2</th>\n",
       "      <td>Quintarelli Giuseppe Veneto Alzero Cabernet 2007</td>\n",
       "      <td>4.7</td>\n",
       "      <td>1194532</td>\n",
       "    </tr>\n",
       "    <tr>\n",
       "      <th>3</th>\n",
       "      <td>Salon Le Mesnil Blanc de Blancs (Cuvée S) Brut...</td>\n",
       "      <td>4.7</td>\n",
       "      <td>1127349</td>\n",
       "    </tr>\n",
       "    <tr>\n",
       "      <th>4</th>\n",
       "      <td>Dal Forno Romano Amarone della Valpolicella Mo...</td>\n",
       "      <td>4.7</td>\n",
       "      <td>89750</td>\n",
       "    </tr>\n",
       "    <tr>\n",
       "      <th>...</th>\n",
       "      <td>...</td>\n",
       "      <td>...</td>\n",
       "      <td>...</td>\n",
       "    </tr>\n",
       "    <tr>\n",
       "      <th>99</th>\n",
       "      <td>Tommasi Amarone della Valpolicella Classico 2018</td>\n",
       "      <td>4.3</td>\n",
       "      <td>7103</td>\n",
       "    </tr>\n",
       "    <tr>\n",
       "      <th>100</th>\n",
       "      <td>Buena Vista Chateau Buena Vista Cabernet Sauvi...</td>\n",
       "      <td>4.3</td>\n",
       "      <td>5261</td>\n",
       "    </tr>\n",
       "    <tr>\n",
       "      <th>101</th>\n",
       "      <td>Chateau Montelena Chardonnay 2019</td>\n",
       "      <td>4.3</td>\n",
       "      <td>1697</td>\n",
       "    </tr>\n",
       "    <tr>\n",
       "      <th>102</th>\n",
       "      <td>Château Gazin Pomerol 2009</td>\n",
       "      <td>4.2</td>\n",
       "      <td>18555</td>\n",
       "    </tr>\n",
       "    <tr>\n",
       "      <th>103</th>\n",
       "      <td>Emidio Pepe Montepulciano d'Abruzzo 2001</td>\n",
       "      <td>4.2</td>\n",
       "      <td>13969</td>\n",
       "    </tr>\n",
       "  </tbody>\n",
       "</table>\n",
       "<p>104 rows × 3 columns</p>\n",
       "</div>"
      ],
      "text/plain": [
       "                                          vintage_name  wines_average_ratings  \\\n",
       "0                    Scarecrow Cabernet Sauvignon 2015                    4.8   \n",
       "1                                 Masseto Toscana 2006                    4.7   \n",
       "2     Quintarelli Giuseppe Veneto Alzero Cabernet 2007                    4.7   \n",
       "3    Salon Le Mesnil Blanc de Blancs (Cuvée S) Brut...                    4.7   \n",
       "4    Dal Forno Romano Amarone della Valpolicella Mo...                    4.7   \n",
       "..                                                 ...                    ...   \n",
       "99    Tommasi Amarone della Valpolicella Classico 2018                    4.3   \n",
       "100  Buena Vista Chateau Buena Vista Cabernet Sauvi...                    4.3   \n",
       "101                  Chateau Montelena Chardonnay 2019                    4.3   \n",
       "102                         Château Gazin Pomerol 2009                    4.2   \n",
       "103           Emidio Pepe Montepulciano d'Abruzzo 2001                    4.2   \n",
       "\n",
       "     wine_id  \n",
       "0    1611255  \n",
       "1    2446729  \n",
       "2    1194532  \n",
       "3    1127349  \n",
       "4      89750  \n",
       "..       ...  \n",
       "99      7103  \n",
       "100     5261  \n",
       "101     1697  \n",
       "102    18555  \n",
       "103    13969  \n",
       "\n",
       "[104 rows x 3 columns]"
      ]
     },
     "execution_count": 14,
     "metadata": {},
     "output_type": "execute_result"
    }
   ],
   "source": [
    "vintage_leaderboard = \"\"\"SELECT \n",
    "                    vintages.name AS vintage_name,\n",
    "                    ROUND(AVG(wines.ratings_average), 2) AS wines_average_ratings,\n",
    "                    wine_id\n",
    "                FROM \n",
    "                    vintages\n",
    "                JOIN \n",
    "                    wines ON wines.id = vintages.wine_id\n",
    "                JOIN \n",
    "                    vintage_toplists_rankings ON vintages.id = vintage_toplists_rankings.vintage_id\n",
    "                GROUP BY \n",
    "                    wine_id\n",
    "                ORDER BY \n",
    "                    wines_average_ratings DESC;\"\"\"\n",
    "\n",
    "vintage_leaderboard_df = pd.read_sql_query(vintage_leaderboard,connexion)\n",
    "vintage_leaderboard_df"
   ]
  },
  {
   "cell_type": "markdown",
   "metadata": {},
   "source": [
    "One of our VIP clients likes Cabernet Sauvignon and would like our top 5 recommendations."
   ]
  },
  {
   "cell_type": "code",
   "execution_count": 16,
   "metadata": {},
   "outputs": [
    {
     "data": {
      "text/html": [
       "<div>\n",
       "<style scoped>\n",
       "    .dataframe tbody tr th:only-of-type {\n",
       "        vertical-align: middle;\n",
       "    }\n",
       "\n",
       "    .dataframe tbody tr th {\n",
       "        vertical-align: top;\n",
       "    }\n",
       "\n",
       "    .dataframe thead th {\n",
       "        text-align: right;\n",
       "    }\n",
       "</style>\n",
       "<table border=\"1\" class=\"dataframe\">\n",
       "  <thead>\n",
       "    <tr style=\"text-align: right;\">\n",
       "      <th></th>\n",
       "      <th>wine_name</th>\n",
       "      <th>grape_name</th>\n",
       "      <th>average_rating</th>\n",
       "      <th>rating_count</th>\n",
       "      <th>weighted_score</th>\n",
       "    </tr>\n",
       "  </thead>\n",
       "  <tbody>\n",
       "    <tr>\n",
       "      <th>0</th>\n",
       "      <td>Cabernet Sauvignon</td>\n",
       "      <td>Cabernet Sauvignon</td>\n",
       "      <td>4.6</td>\n",
       "      <td>157944</td>\n",
       "      <td>145308.5</td>\n",
       "    </tr>\n",
       "    <tr>\n",
       "      <th>1</th>\n",
       "      <td>ARTEMIS Cabernet Sauvignon</td>\n",
       "      <td>Cabernet Sauvignon</td>\n",
       "      <td>4.4</td>\n",
       "      <td>81351</td>\n",
       "      <td>71588.9</td>\n",
       "    </tr>\n",
       "    <tr>\n",
       "      <th>2</th>\n",
       "      <td>Opus One</td>\n",
       "      <td>Cabernet Sauvignon</td>\n",
       "      <td>4.6</td>\n",
       "      <td>77053</td>\n",
       "      <td>70888.8</td>\n",
       "    </tr>\n",
       "    <tr>\n",
       "      <th>3</th>\n",
       "      <td>Valbuena 5º</td>\n",
       "      <td>Cabernet Sauvignon</td>\n",
       "      <td>4.6</td>\n",
       "      <td>72784</td>\n",
       "      <td>66961.3</td>\n",
       "    </tr>\n",
       "    <tr>\n",
       "      <th>4</th>\n",
       "      <td>Ribera del Duero</td>\n",
       "      <td>Cabernet Sauvignon</td>\n",
       "      <td>4.5</td>\n",
       "      <td>69278</td>\n",
       "      <td>62350.2</td>\n",
       "    </tr>\n",
       "  </tbody>\n",
       "</table>\n",
       "</div>"
      ],
      "text/plain": [
       "                    wine_name          grape_name  average_rating  \\\n",
       "0          Cabernet Sauvignon  Cabernet Sauvignon             4.6   \n",
       "1  ARTEMIS Cabernet Sauvignon  Cabernet Sauvignon             4.4   \n",
       "2                    Opus One  Cabernet Sauvignon             4.6   \n",
       "3                 Valbuena 5º  Cabernet Sauvignon             4.6   \n",
       "4            Ribera del Duero  Cabernet Sauvignon             4.5   \n",
       "\n",
       "   rating_count  weighted_score  \n",
       "0        157944        145308.5  \n",
       "1         81351         71588.9  \n",
       "2         77053         70888.8  \n",
       "3         72784         66961.3  \n",
       "4         69278         62350.2  "
      ]
     },
     "execution_count": 16,
     "metadata": {},
     "output_type": "execute_result"
    }
   ],
   "source": [
    "recommendations_for_vip_clients = \"\"\"SELECT\n",
    "                    wines.name AS wine_name,\n",
    "                    grapes.name AS grape_name,\n",
    "                    wines.ratings_average AS average_rating,\n",
    "                    wines.ratings_count AS rating_count,\n",
    "                    ROUND((wines.ratings_average / 5) * wines.ratings_count, 1) AS weighted_score\n",
    "                FROM\n",
    "                    wines\n",
    "                JOIN\n",
    "                    regions ON regions.id = wines.region_id\n",
    "                JOIN\n",
    "                    most_used_grapes_per_country ON most_used_grapes_per_country.country_code = regions.country_code\n",
    "                JOIN\n",
    "                    grapes ON grapes.id = most_used_grapes_per_country.grape_id\n",
    "                WHERE\n",
    "                    grape_name = 'Cabernet Sauvignon'\n",
    "                ORDER BY\n",
    "                    weighted_score DESC\n",
    "                LIMIT 5;\"\"\"\n",
    "\n",
    "recommendations_for_vip_clients_df = pd.read_sql_query(recommendations_for_vip_clients,connexion)\n",
    "recommendations_for_vip_clients_df"
   ]
  },
  {
   "cell_type": "code",
   "execution_count": 22,
   "metadata": {},
   "outputs": [
    {
     "data": {
      "application/vnd.plotly.v1+json": {
       "config": {
        "plotlyServerURL": "https://plot.ly"
       },
       "data": [
        {
         "alignmentgroup": "True",
         "hovertemplate": "wine_name=%{x}<br>weighted_score=%{y}<extra></extra>",
         "legendgroup": "",
         "marker": {
          "color": "#636efa",
          "pattern": {
           "shape": ""
          }
         },
         "name": "",
         "offsetgroup": "",
         "orientation": "v",
         "showlegend": false,
         "textposition": "auto",
         "type": "bar",
         "x": [
          "Cabernet Sauvignon",
          "ARTEMIS Cabernet Sauvignon",
          "Opus One",
          "Valbuena 5º",
          "Ribera del Duero"
         ],
         "xaxis": "x",
         "y": [
          145308.5,
          71588.9,
          70888.8,
          66961.3,
          62350.2
         ],
         "yaxis": "y"
        }
       ],
       "layout": {
        "barmode": "relative",
        "legend": {
         "tracegroupgap": 0
        },
        "template": {
         "data": {
          "bar": [
           {
            "error_x": {
             "color": "#2a3f5f"
            },
            "error_y": {
             "color": "#2a3f5f"
            },
            "marker": {
             "line": {
              "color": "#E5ECF6",
              "width": 0.5
             },
             "pattern": {
              "fillmode": "overlay",
              "size": 10,
              "solidity": 0.2
             }
            },
            "type": "bar"
           }
          ],
          "barpolar": [
           {
            "marker": {
             "line": {
              "color": "#E5ECF6",
              "width": 0.5
             },
             "pattern": {
              "fillmode": "overlay",
              "size": 10,
              "solidity": 0.2
             }
            },
            "type": "barpolar"
           }
          ],
          "carpet": [
           {
            "aaxis": {
             "endlinecolor": "#2a3f5f",
             "gridcolor": "white",
             "linecolor": "white",
             "minorgridcolor": "white",
             "startlinecolor": "#2a3f5f"
            },
            "baxis": {
             "endlinecolor": "#2a3f5f",
             "gridcolor": "white",
             "linecolor": "white",
             "minorgridcolor": "white",
             "startlinecolor": "#2a3f5f"
            },
            "type": "carpet"
           }
          ],
          "choropleth": [
           {
            "colorbar": {
             "outlinewidth": 0,
             "ticks": ""
            },
            "type": "choropleth"
           }
          ],
          "contour": [
           {
            "colorbar": {
             "outlinewidth": 0,
             "ticks": ""
            },
            "colorscale": [
             [
              0,
              "#0d0887"
             ],
             [
              0.1111111111111111,
              "#46039f"
             ],
             [
              0.2222222222222222,
              "#7201a8"
             ],
             [
              0.3333333333333333,
              "#9c179e"
             ],
             [
              0.4444444444444444,
              "#bd3786"
             ],
             [
              0.5555555555555556,
              "#d8576b"
             ],
             [
              0.6666666666666666,
              "#ed7953"
             ],
             [
              0.7777777777777778,
              "#fb9f3a"
             ],
             [
              0.8888888888888888,
              "#fdca26"
             ],
             [
              1,
              "#f0f921"
             ]
            ],
            "type": "contour"
           }
          ],
          "contourcarpet": [
           {
            "colorbar": {
             "outlinewidth": 0,
             "ticks": ""
            },
            "type": "contourcarpet"
           }
          ],
          "heatmap": [
           {
            "colorbar": {
             "outlinewidth": 0,
             "ticks": ""
            },
            "colorscale": [
             [
              0,
              "#0d0887"
             ],
             [
              0.1111111111111111,
              "#46039f"
             ],
             [
              0.2222222222222222,
              "#7201a8"
             ],
             [
              0.3333333333333333,
              "#9c179e"
             ],
             [
              0.4444444444444444,
              "#bd3786"
             ],
             [
              0.5555555555555556,
              "#d8576b"
             ],
             [
              0.6666666666666666,
              "#ed7953"
             ],
             [
              0.7777777777777778,
              "#fb9f3a"
             ],
             [
              0.8888888888888888,
              "#fdca26"
             ],
             [
              1,
              "#f0f921"
             ]
            ],
            "type": "heatmap"
           }
          ],
          "heatmapgl": [
           {
            "colorbar": {
             "outlinewidth": 0,
             "ticks": ""
            },
            "colorscale": [
             [
              0,
              "#0d0887"
             ],
             [
              0.1111111111111111,
              "#46039f"
             ],
             [
              0.2222222222222222,
              "#7201a8"
             ],
             [
              0.3333333333333333,
              "#9c179e"
             ],
             [
              0.4444444444444444,
              "#bd3786"
             ],
             [
              0.5555555555555556,
              "#d8576b"
             ],
             [
              0.6666666666666666,
              "#ed7953"
             ],
             [
              0.7777777777777778,
              "#fb9f3a"
             ],
             [
              0.8888888888888888,
              "#fdca26"
             ],
             [
              1,
              "#f0f921"
             ]
            ],
            "type": "heatmapgl"
           }
          ],
          "histogram": [
           {
            "marker": {
             "pattern": {
              "fillmode": "overlay",
              "size": 10,
              "solidity": 0.2
             }
            },
            "type": "histogram"
           }
          ],
          "histogram2d": [
           {
            "colorbar": {
             "outlinewidth": 0,
             "ticks": ""
            },
            "colorscale": [
             [
              0,
              "#0d0887"
             ],
             [
              0.1111111111111111,
              "#46039f"
             ],
             [
              0.2222222222222222,
              "#7201a8"
             ],
             [
              0.3333333333333333,
              "#9c179e"
             ],
             [
              0.4444444444444444,
              "#bd3786"
             ],
             [
              0.5555555555555556,
              "#d8576b"
             ],
             [
              0.6666666666666666,
              "#ed7953"
             ],
             [
              0.7777777777777778,
              "#fb9f3a"
             ],
             [
              0.8888888888888888,
              "#fdca26"
             ],
             [
              1,
              "#f0f921"
             ]
            ],
            "type": "histogram2d"
           }
          ],
          "histogram2dcontour": [
           {
            "colorbar": {
             "outlinewidth": 0,
             "ticks": ""
            },
            "colorscale": [
             [
              0,
              "#0d0887"
             ],
             [
              0.1111111111111111,
              "#46039f"
             ],
             [
              0.2222222222222222,
              "#7201a8"
             ],
             [
              0.3333333333333333,
              "#9c179e"
             ],
             [
              0.4444444444444444,
              "#bd3786"
             ],
             [
              0.5555555555555556,
              "#d8576b"
             ],
             [
              0.6666666666666666,
              "#ed7953"
             ],
             [
              0.7777777777777778,
              "#fb9f3a"
             ],
             [
              0.8888888888888888,
              "#fdca26"
             ],
             [
              1,
              "#f0f921"
             ]
            ],
            "type": "histogram2dcontour"
           }
          ],
          "mesh3d": [
           {
            "colorbar": {
             "outlinewidth": 0,
             "ticks": ""
            },
            "type": "mesh3d"
           }
          ],
          "parcoords": [
           {
            "line": {
             "colorbar": {
              "outlinewidth": 0,
              "ticks": ""
             }
            },
            "type": "parcoords"
           }
          ],
          "pie": [
           {
            "automargin": true,
            "type": "pie"
           }
          ],
          "scatter": [
           {
            "fillpattern": {
             "fillmode": "overlay",
             "size": 10,
             "solidity": 0.2
            },
            "type": "scatter"
           }
          ],
          "scatter3d": [
           {
            "line": {
             "colorbar": {
              "outlinewidth": 0,
              "ticks": ""
             }
            },
            "marker": {
             "colorbar": {
              "outlinewidth": 0,
              "ticks": ""
             }
            },
            "type": "scatter3d"
           }
          ],
          "scattercarpet": [
           {
            "marker": {
             "colorbar": {
              "outlinewidth": 0,
              "ticks": ""
             }
            },
            "type": "scattercarpet"
           }
          ],
          "scattergeo": [
           {
            "marker": {
             "colorbar": {
              "outlinewidth": 0,
              "ticks": ""
             }
            },
            "type": "scattergeo"
           }
          ],
          "scattergl": [
           {
            "marker": {
             "colorbar": {
              "outlinewidth": 0,
              "ticks": ""
             }
            },
            "type": "scattergl"
           }
          ],
          "scattermapbox": [
           {
            "marker": {
             "colorbar": {
              "outlinewidth": 0,
              "ticks": ""
             }
            },
            "type": "scattermapbox"
           }
          ],
          "scatterpolar": [
           {
            "marker": {
             "colorbar": {
              "outlinewidth": 0,
              "ticks": ""
             }
            },
            "type": "scatterpolar"
           }
          ],
          "scatterpolargl": [
           {
            "marker": {
             "colorbar": {
              "outlinewidth": 0,
              "ticks": ""
             }
            },
            "type": "scatterpolargl"
           }
          ],
          "scatterternary": [
           {
            "marker": {
             "colorbar": {
              "outlinewidth": 0,
              "ticks": ""
             }
            },
            "type": "scatterternary"
           }
          ],
          "surface": [
           {
            "colorbar": {
             "outlinewidth": 0,
             "ticks": ""
            },
            "colorscale": [
             [
              0,
              "#0d0887"
             ],
             [
              0.1111111111111111,
              "#46039f"
             ],
             [
              0.2222222222222222,
              "#7201a8"
             ],
             [
              0.3333333333333333,
              "#9c179e"
             ],
             [
              0.4444444444444444,
              "#bd3786"
             ],
             [
              0.5555555555555556,
              "#d8576b"
             ],
             [
              0.6666666666666666,
              "#ed7953"
             ],
             [
              0.7777777777777778,
              "#fb9f3a"
             ],
             [
              0.8888888888888888,
              "#fdca26"
             ],
             [
              1,
              "#f0f921"
             ]
            ],
            "type": "surface"
           }
          ],
          "table": [
           {
            "cells": {
             "fill": {
              "color": "#EBF0F8"
             },
             "line": {
              "color": "white"
             }
            },
            "header": {
             "fill": {
              "color": "#C8D4E3"
             },
             "line": {
              "color": "white"
             }
            },
            "type": "table"
           }
          ]
         },
         "layout": {
          "annotationdefaults": {
           "arrowcolor": "#2a3f5f",
           "arrowhead": 0,
           "arrowwidth": 1
          },
          "autotypenumbers": "strict",
          "coloraxis": {
           "colorbar": {
            "outlinewidth": 0,
            "ticks": ""
           }
          },
          "colorscale": {
           "diverging": [
            [
             0,
             "#8e0152"
            ],
            [
             0.1,
             "#c51b7d"
            ],
            [
             0.2,
             "#de77ae"
            ],
            [
             0.3,
             "#f1b6da"
            ],
            [
             0.4,
             "#fde0ef"
            ],
            [
             0.5,
             "#f7f7f7"
            ],
            [
             0.6,
             "#e6f5d0"
            ],
            [
             0.7,
             "#b8e186"
            ],
            [
             0.8,
             "#7fbc41"
            ],
            [
             0.9,
             "#4d9221"
            ],
            [
             1,
             "#276419"
            ]
           ],
           "sequential": [
            [
             0,
             "#0d0887"
            ],
            [
             0.1111111111111111,
             "#46039f"
            ],
            [
             0.2222222222222222,
             "#7201a8"
            ],
            [
             0.3333333333333333,
             "#9c179e"
            ],
            [
             0.4444444444444444,
             "#bd3786"
            ],
            [
             0.5555555555555556,
             "#d8576b"
            ],
            [
             0.6666666666666666,
             "#ed7953"
            ],
            [
             0.7777777777777778,
             "#fb9f3a"
            ],
            [
             0.8888888888888888,
             "#fdca26"
            ],
            [
             1,
             "#f0f921"
            ]
           ],
           "sequentialminus": [
            [
             0,
             "#0d0887"
            ],
            [
             0.1111111111111111,
             "#46039f"
            ],
            [
             0.2222222222222222,
             "#7201a8"
            ],
            [
             0.3333333333333333,
             "#9c179e"
            ],
            [
             0.4444444444444444,
             "#bd3786"
            ],
            [
             0.5555555555555556,
             "#d8576b"
            ],
            [
             0.6666666666666666,
             "#ed7953"
            ],
            [
             0.7777777777777778,
             "#fb9f3a"
            ],
            [
             0.8888888888888888,
             "#fdca26"
            ],
            [
             1,
             "#f0f921"
            ]
           ]
          },
          "colorway": [
           "#636efa",
           "#EF553B",
           "#00cc96",
           "#ab63fa",
           "#FFA15A",
           "#19d3f3",
           "#FF6692",
           "#B6E880",
           "#FF97FF",
           "#FECB52"
          ],
          "font": {
           "color": "#2a3f5f"
          },
          "geo": {
           "bgcolor": "white",
           "lakecolor": "white",
           "landcolor": "#E5ECF6",
           "showlakes": true,
           "showland": true,
           "subunitcolor": "white"
          },
          "hoverlabel": {
           "align": "left"
          },
          "hovermode": "closest",
          "mapbox": {
           "style": "light"
          },
          "paper_bgcolor": "white",
          "plot_bgcolor": "#E5ECF6",
          "polar": {
           "angularaxis": {
            "gridcolor": "white",
            "linecolor": "white",
            "ticks": ""
           },
           "bgcolor": "#E5ECF6",
           "radialaxis": {
            "gridcolor": "white",
            "linecolor": "white",
            "ticks": ""
           }
          },
          "scene": {
           "xaxis": {
            "backgroundcolor": "#E5ECF6",
            "gridcolor": "white",
            "gridwidth": 2,
            "linecolor": "white",
            "showbackground": true,
            "ticks": "",
            "zerolinecolor": "white"
           },
           "yaxis": {
            "backgroundcolor": "#E5ECF6",
            "gridcolor": "white",
            "gridwidth": 2,
            "linecolor": "white",
            "showbackground": true,
            "ticks": "",
            "zerolinecolor": "white"
           },
           "zaxis": {
            "backgroundcolor": "#E5ECF6",
            "gridcolor": "white",
            "gridwidth": 2,
            "linecolor": "white",
            "showbackground": true,
            "ticks": "",
            "zerolinecolor": "white"
           }
          },
          "shapedefaults": {
           "line": {
            "color": "#2a3f5f"
           }
          },
          "ternary": {
           "aaxis": {
            "gridcolor": "white",
            "linecolor": "white",
            "ticks": ""
           },
           "baxis": {
            "gridcolor": "white",
            "linecolor": "white",
            "ticks": ""
           },
           "bgcolor": "#E5ECF6",
           "caxis": {
            "gridcolor": "white",
            "linecolor": "white",
            "ticks": ""
           }
          },
          "title": {
           "x": 0.05
          },
          "xaxis": {
           "automargin": true,
           "gridcolor": "white",
           "linecolor": "white",
           "ticks": "",
           "title": {
            "standoff": 15
           },
           "zerolinecolor": "white",
           "zerolinewidth": 2
          },
          "yaxis": {
           "automargin": true,
           "gridcolor": "white",
           "linecolor": "white",
           "ticks": "",
           "title": {
            "standoff": 15
           },
           "zerolinecolor": "white",
           "zerolinewidth": 2
          }
         }
        },
        "title": {
         "text": "Top 5 recommendations of wine with weighted score"
        },
        "xaxis": {
         "anchor": "y",
         "domain": [
          0,
          1
         ],
         "title": {
          "text": "wine_name"
         }
        },
        "yaxis": {
         "anchor": "x",
         "domain": [
          0,
          1
         ],
         "title": {
          "text": "weighted_score"
         }
        }
       }
      }
     },
     "metadata": {},
     "output_type": "display_data"
    }
   ],
   "source": [
    "fig = px.bar(recommendations_for_vip_clients_df, x = \"wine_name\", y = \"weighted_score\", title= \"Top 5 recommendations of wine with weighted score\")\n",
    "fig.show()"
   ]
  }
 ],
 "metadata": {
  "kernelspec": {
   "display_name": "Python 3",
   "language": "python",
   "name": "python3"
  },
  "language_info": {
   "codemirror_mode": {
    "name": "ipython",
    "version": 3
   },
   "file_extension": ".py",
   "mimetype": "text/x-python",
   "name": "python",
   "nbconvert_exporter": "python",
   "pygments_lexer": "ipython3",
   "version": "3.11.8"
  }
 },
 "nbformat": 4,
 "nbformat_minor": 2
}
